{
 "cells": [
  {
   "cell_type": "code",
   "execution_count": 1,
   "metadata": {},
   "outputs": [],
   "source": [
    "import tweepy\n",
    "import os\n",
    "import pandas as pd\n",
    "import json"
   ]
  },
  {
   "cell_type": "code",
   "execution_count": 2,
   "metadata": {},
   "outputs": [],
   "source": [
    "consumer_key = 'gcMj4eZ34JaDUihoqhp4Zs0QV'\n",
    "consumer_secret = '1SYIiS3TuncXIEiQZNfG8NEIWMFpRFNJMyOBbB02QYgog4r32G'\n",
    "access_token = '917834798885830656-XfW4qr4L8zDUxcEBkhqqxzpRUUZXk9Y'\n",
    "access_secret = 'uRq3VYviahjwZgYZe9lOh9BV2iWGrN18jaXbPLARtugoB'\n",
    "\n",
    "auth = tweepy.OAuthHandler(consumer_key, consumer_secret)\n",
    "auth.set_access_token(access_token, access_secret)\n",
    "\n",
    "api = tweepy.API(auth)"
   ]
  },
  {
   "cell_type": "code",
   "execution_count": 3,
   "metadata": {},
   "outputs": [],
   "source": [
    "folder_name = 'twitterFeed'\n",
    "if not os.path.exists(folder_name):\n",
    "    os.makedirs(folder_name)"
   ]
  },
  {
   "cell_type": "code",
   "execution_count": 4,
   "metadata": {},
   "outputs": [],
   "source": [
    "df = pd.read_csv('twitter-archive-enhanced.csv')"
   ]
  },
  {
   "cell_type": "code",
   "execution_count": 9,
   "metadata": {},
   "outputs": [
    {
     "name": "stderr",
     "output_type": "stream",
     "text": [
      "Rate limit reached. Sleeping for: 582\n",
      "Rate limit reached. Sleeping for: 677\n"
     ]
    }
   ],
   "source": [
    "file_name = 'tweet_json.txt'\n",
    "for row in df.itertuples():\n",
    "    try:\n",
    "        tweet_json = api.get_status(row.tweet_id, tweet_mode='extended',\n",
    "                                    wait_on_rate_limit = True,\n",
    "                                    wait_on_rate_limit_notify = True)\n",
    "        with open(os.path.join(folder_name,file_name),mode = 'a') as file:\n",
    "            file.write(json.dumps(tweet_json._json))\n",
    "            file.write(\"\\n\")\n",
    "    \n",
    "    except tweepy.TweepError as e:\n",
    "        with open(os.path.join(folder_name, 'tweet_json_errors.txt'), mode = 'a') as errfile:\n",
    "            errfile.write(\"Twitter ID: \" + row.tweet_id + \" Error Response: \" + e.response.text)\n",
    "            errfile.write(\"\\n\")\n"
   ]
  }
 ],
 "metadata": {
  "kernelspec": {
   "display_name": "Python [default]",
   "language": "python",
   "name": "python3"
  },
  "language_info": {
   "codemirror_mode": {
    "name": "ipython",
    "version": 3
   },
   "file_extension": ".py",
   "mimetype": "text/x-python",
   "name": "python",
   "nbconvert_exporter": "python",
   "pygments_lexer": "ipython3",
   "version": "3.6.5"
  }
 },
 "nbformat": 4,
 "nbformat_minor": 2
}
