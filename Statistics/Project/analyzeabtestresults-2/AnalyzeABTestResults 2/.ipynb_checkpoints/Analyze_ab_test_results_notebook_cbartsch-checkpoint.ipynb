{
 "cells": [
  {
   "cell_type": "markdown",
   "metadata": {},
   "source": [
    "## Analyze A/B Test Results\n",
    "\n",
    "This project will assure you have mastered the subjects covered in the statistics lessons.  The hope is to have this project be as comprehensive of these topics as possible.  Good luck!\n",
    "\n",
    "## Table of Contents\n",
    "- [Introduction](#intro)\n",
    "- [Part I - Probability](#probability)\n",
    "- [Part II - A/B Test](#ab_test)\n",
    "- [Part III - Regression](#regression)\n",
    "\n",
    "\n",
    "<a id='intro'></a>\n",
    "### Introduction\n",
    "\n",
    "A/B tests are very commonly performed by data analysts and data scientists.  It is important that you get some practice working with the difficulties of these \n",
    "\n",
    "For this project, you will be working to understand the results of an A/B test run by an e-commerce website.  Your goal is to work through this notebook to help the company understand if they should implement the new page, keep the old page, or perhaps run the experiment longer to make their decision.\n",
    "\n",
    "**As you work through this notebook, follow along in the classroom and answer the corresponding quiz questions associated with each question.** The labels for each classroom concept are provided for each question.  This will assure you are on the right track as you work through the project, and you can feel more confident in your final submission meeting the criteria.  As a final check, assure you meet all the criteria on the [RUBRIC](https://review.udacity.com/#!/projects/37e27304-ad47-4eb0-a1ab-8c12f60e43d0/rubric).\n",
    "\n",
    "<a id='probability'></a>\n",
    "#### Part I - Probability\n",
    "\n",
    "To get started, let's import our libraries."
   ]
  },
  {
   "cell_type": "code",
   "execution_count": 1,
   "metadata": {},
   "outputs": [
    {
     "name": "stderr",
     "output_type": "stream",
     "text": [
      "C:\\Users\\cb1118\\AppData\\Local\\Continuum\\anaconda3\\lib\\site-packages\\statsmodels\\compat\\pandas.py:56: FutureWarning: The pandas.core.datetools module is deprecated and will be removed in a future version. Please use the pandas.tseries module instead.\n",
      "  from pandas.core import datetools\n"
     ]
    }
   ],
   "source": [
    "import pandas as pd\n",
    "import numpy as np\n",
    "import random\n",
    "import matplotlib.pyplot as plt\n",
    "%matplotlib inline\n",
    "import statsmodels.api as sm\n",
    "#We are setting the seed to assure you get the same answers on quizzes as we set up\n",
    "random.seed(42)"
   ]
  },
  {
   "cell_type": "markdown",
   "metadata": {},
   "source": [
    "`1.` Now, read in the `ab_data.csv` data. Store it in `df`.  **Use your dataframe to answer the questions in Quiz 1 of the classroom.**\n",
    "\n",
    "a. Read in the dataset and take a look at the top few rows here:"
   ]
  },
  {
   "cell_type": "code",
   "execution_count": 2,
   "metadata": {},
   "outputs": [
    {
     "data": {
      "text/html": [
       "<div>\n",
       "<style>\n",
       "    .dataframe thead tr:only-child th {\n",
       "        text-align: right;\n",
       "    }\n",
       "\n",
       "    .dataframe thead th {\n",
       "        text-align: left;\n",
       "    }\n",
       "\n",
       "    .dataframe tbody tr th {\n",
       "        vertical-align: top;\n",
       "    }\n",
       "</style>\n",
       "<table border=\"1\" class=\"dataframe\">\n",
       "  <thead>\n",
       "    <tr style=\"text-align: right;\">\n",
       "      <th></th>\n",
       "      <th>user_id</th>\n",
       "      <th>timestamp</th>\n",
       "      <th>group</th>\n",
       "      <th>landing_page</th>\n",
       "      <th>converted</th>\n",
       "    </tr>\n",
       "  </thead>\n",
       "  <tbody>\n",
       "    <tr>\n",
       "      <th>0</th>\n",
       "      <td>851104</td>\n",
       "      <td>2017-01-21 22:11:48.556739</td>\n",
       "      <td>control</td>\n",
       "      <td>old_page</td>\n",
       "      <td>0</td>\n",
       "    </tr>\n",
       "    <tr>\n",
       "      <th>1</th>\n",
       "      <td>804228</td>\n",
       "      <td>2017-01-12 08:01:45.159739</td>\n",
       "      <td>control</td>\n",
       "      <td>old_page</td>\n",
       "      <td>0</td>\n",
       "    </tr>\n",
       "    <tr>\n",
       "      <th>2</th>\n",
       "      <td>661590</td>\n",
       "      <td>2017-01-11 16:55:06.154213</td>\n",
       "      <td>treatment</td>\n",
       "      <td>new_page</td>\n",
       "      <td>0</td>\n",
       "    </tr>\n",
       "    <tr>\n",
       "      <th>3</th>\n",
       "      <td>853541</td>\n",
       "      <td>2017-01-08 18:28:03.143765</td>\n",
       "      <td>treatment</td>\n",
       "      <td>new_page</td>\n",
       "      <td>0</td>\n",
       "    </tr>\n",
       "    <tr>\n",
       "      <th>4</th>\n",
       "      <td>864975</td>\n",
       "      <td>2017-01-21 01:52:26.210827</td>\n",
       "      <td>control</td>\n",
       "      <td>old_page</td>\n",
       "      <td>1</td>\n",
       "    </tr>\n",
       "  </tbody>\n",
       "</table>\n",
       "</div>"
      ],
      "text/plain": [
       "   user_id                   timestamp      group landing_page  converted\n",
       "0   851104  2017-01-21 22:11:48.556739    control     old_page          0\n",
       "1   804228  2017-01-12 08:01:45.159739    control     old_page          0\n",
       "2   661590  2017-01-11 16:55:06.154213  treatment     new_page          0\n",
       "3   853541  2017-01-08 18:28:03.143765  treatment     new_page          0\n",
       "4   864975  2017-01-21 01:52:26.210827    control     old_page          1"
      ]
     },
     "execution_count": 2,
     "metadata": {},
     "output_type": "execute_result"
    }
   ],
   "source": [
    "df = pd.read_csv('ab_data.csv')\n",
    "df.head()"
   ]
  },
  {
   "cell_type": "markdown",
   "metadata": {},
   "source": [
    "b. Use the below cell to find the number of rows in the dataset."
   ]
  },
  {
   "cell_type": "code",
   "execution_count": 3,
   "metadata": {},
   "outputs": [
    {
     "data": {
      "text/plain": [
       "(294478, 5)"
      ]
     },
     "execution_count": 3,
     "metadata": {},
     "output_type": "execute_result"
    }
   ],
   "source": [
    "df.shape"
   ]
  },
  {
   "cell_type": "markdown",
   "metadata": {},
   "source": [
    "c. The number of unique users in the dataset."
   ]
  },
  {
   "cell_type": "code",
   "execution_count": 4,
   "metadata": {},
   "outputs": [
    {
     "data": {
      "text/plain": [
       "user_id         290584\n",
       "timestamp       294478\n",
       "group                2\n",
       "landing_page         2\n",
       "converted            2\n",
       "dtype: int64"
      ]
     },
     "execution_count": 4,
     "metadata": {},
     "output_type": "execute_result"
    }
   ],
   "source": [
    "df.nunique()"
   ]
  },
  {
   "cell_type": "markdown",
   "metadata": {
    "collapsed": true
   },
   "source": [
    "d. The proportion of users converted."
   ]
  },
  {
   "cell_type": "code",
   "execution_count": 5,
   "metadata": {},
   "outputs": [
    {
     "data": {
      "text/plain": [
       "0.11965919355605512"
      ]
     },
     "execution_count": 5,
     "metadata": {},
     "output_type": "execute_result"
    }
   ],
   "source": [
    "df.converted.sum()/df.converted.count()"
   ]
  },
  {
   "cell_type": "markdown",
   "metadata": {
    "collapsed": true
   },
   "source": [
    "e. The number of times the `new_page` and `treatment` don't line up."
   ]
  },
  {
   "cell_type": "code",
   "execution_count": 6,
   "metadata": {},
   "outputs": [
    {
     "data": {
      "text/plain": [
       "user_id         3893\n",
       "timestamp       3893\n",
       "group           3893\n",
       "landing_page    3893\n",
       "converted       3893\n",
       "dtype: int64"
      ]
     },
     "execution_count": 6,
     "metadata": {},
     "output_type": "execute_result"
    }
   ],
   "source": [
    "df[((df['group'] == 'treatment') == (df['landing_page'] == 'new_page')) == False].count()"
   ]
  },
  {
   "cell_type": "markdown",
   "metadata": {},
   "source": [
    "f. Do any of the rows have missing values?"
   ]
  },
  {
   "cell_type": "code",
   "execution_count": 7,
   "metadata": {},
   "outputs": [
    {
     "data": {
      "text/plain": [
       "user_id         0\n",
       "timestamp       0\n",
       "group           0\n",
       "landing_page    0\n",
       "converted       0\n",
       "dtype: int64"
      ]
     },
     "execution_count": 7,
     "metadata": {},
     "output_type": "execute_result"
    }
   ],
   "source": [
    "df.isnull().sum()"
   ]
  },
  {
   "cell_type": "markdown",
   "metadata": {},
   "source": [
    "`2.` For the rows where **treatment** is not aligned with **new_page** or **control** is not aligned with **old_page**, we cannot be sure if this row truly received the new or old page.  Use **Quiz 2** in the classroom to provide how we should handle these rows.  \n",
    "\n",
    "a. Now use the answer to the quiz to create a new dataset that meets the specifications from the quiz.  Store your new dataframe in **df2**."
   ]
  },
  {
   "cell_type": "code",
   "execution_count": 8,
   "metadata": {},
   "outputs": [],
   "source": [
    "df2=df[((df['group'] == 'treatment') == (df['landing_page'] == 'new_page')) == True]\n"
   ]
  },
  {
   "cell_type": "code",
   "execution_count": 9,
   "metadata": {},
   "outputs": [
    {
     "data": {
      "text/plain": [
       "0"
      ]
     },
     "execution_count": 9,
     "metadata": {},
     "output_type": "execute_result"
    }
   ],
   "source": [
    "# Double Check all of the correct rows were removed - this should be 0\n",
    "df2[((df2['group'] == 'treatment') == (df2['landing_page'] == 'new_page')) == False].shape[0]"
   ]
  },
  {
   "cell_type": "markdown",
   "metadata": {},
   "source": [
    "`3.` Use **df2** and the cells below to answer questions for **Quiz3** in the classroom."
   ]
  },
  {
   "cell_type": "markdown",
   "metadata": {},
   "source": [
    "a. How many unique **user_id**s are in **df2**?"
   ]
  },
  {
   "cell_type": "code",
   "execution_count": 10,
   "metadata": {},
   "outputs": [
    {
     "data": {
      "text/plain": [
       "user_id         290584\n",
       "timestamp       290585\n",
       "group                2\n",
       "landing_page         2\n",
       "converted            2\n",
       "dtype: int64"
      ]
     },
     "execution_count": 10,
     "metadata": {},
     "output_type": "execute_result"
    }
   ],
   "source": [
    "df2.nunique()"
   ]
  },
  {
   "cell_type": "markdown",
   "metadata": {
    "collapsed": true
   },
   "source": [
    "b. There is one **user_id** repeated in **df2**.  What is it?"
   ]
  },
  {
   "cell_type": "code",
   "execution_count": 11,
   "metadata": {},
   "outputs": [
    {
     "data": {
      "text/html": [
       "<div>\n",
       "<style>\n",
       "    .dataframe thead tr:only-child th {\n",
       "        text-align: right;\n",
       "    }\n",
       "\n",
       "    .dataframe thead th {\n",
       "        text-align: left;\n",
       "    }\n",
       "\n",
       "    .dataframe tbody tr th {\n",
       "        vertical-align: top;\n",
       "    }\n",
       "</style>\n",
       "<table border=\"1\" class=\"dataframe\">\n",
       "  <thead>\n",
       "    <tr style=\"text-align: right;\">\n",
       "      <th></th>\n",
       "      <th>user_id</th>\n",
       "      <th>timestamp</th>\n",
       "      <th>group</th>\n",
       "      <th>landing_page</th>\n",
       "      <th>converted</th>\n",
       "    </tr>\n",
       "  </thead>\n",
       "  <tbody>\n",
       "    <tr>\n",
       "      <th>2893</th>\n",
       "      <td>773192</td>\n",
       "      <td>2017-01-14 02:55:59.590927</td>\n",
       "      <td>treatment</td>\n",
       "      <td>new_page</td>\n",
       "      <td>0</td>\n",
       "    </tr>\n",
       "  </tbody>\n",
       "</table>\n",
       "</div>"
      ],
      "text/plain": [
       "      user_id                   timestamp      group landing_page  converted\n",
       "2893   773192  2017-01-14 02:55:59.590927  treatment     new_page          0"
      ]
     },
     "execution_count": 11,
     "metadata": {},
     "output_type": "execute_result"
    }
   ],
   "source": [
    "df2[df2.duplicated('user_id')]"
   ]
  },
  {
   "cell_type": "markdown",
   "metadata": {},
   "source": [
    "c. What is the row information for the repeat **user_id**? "
   ]
  },
  {
   "cell_type": "code",
   "execution_count": 12,
   "metadata": {},
   "outputs": [
    {
     "data": {
      "text/html": [
       "<div>\n",
       "<style>\n",
       "    .dataframe thead tr:only-child th {\n",
       "        text-align: right;\n",
       "    }\n",
       "\n",
       "    .dataframe thead th {\n",
       "        text-align: left;\n",
       "    }\n",
       "\n",
       "    .dataframe tbody tr th {\n",
       "        vertical-align: top;\n",
       "    }\n",
       "</style>\n",
       "<table border=\"1\" class=\"dataframe\">\n",
       "  <thead>\n",
       "    <tr style=\"text-align: right;\">\n",
       "      <th></th>\n",
       "      <th>user_id</th>\n",
       "      <th>timestamp</th>\n",
       "      <th>group</th>\n",
       "      <th>landing_page</th>\n",
       "      <th>converted</th>\n",
       "    </tr>\n",
       "  </thead>\n",
       "  <tbody>\n",
       "    <tr>\n",
       "      <th>1899</th>\n",
       "      <td>773192</td>\n",
       "      <td>2017-01-09 05:37:58.781806</td>\n",
       "      <td>treatment</td>\n",
       "      <td>new_page</td>\n",
       "      <td>0</td>\n",
       "    </tr>\n",
       "    <tr>\n",
       "      <th>2893</th>\n",
       "      <td>773192</td>\n",
       "      <td>2017-01-14 02:55:59.590927</td>\n",
       "      <td>treatment</td>\n",
       "      <td>new_page</td>\n",
       "      <td>0</td>\n",
       "    </tr>\n",
       "  </tbody>\n",
       "</table>\n",
       "</div>"
      ],
      "text/plain": [
       "      user_id                   timestamp      group landing_page  converted\n",
       "1899   773192  2017-01-09 05:37:58.781806  treatment     new_page          0\n",
       "2893   773192  2017-01-14 02:55:59.590927  treatment     new_page          0"
      ]
     },
     "execution_count": 12,
     "metadata": {},
     "output_type": "execute_result"
    }
   ],
   "source": [
    "df2.query(\"user_id == 773192\")"
   ]
  },
  {
   "cell_type": "markdown",
   "metadata": {},
   "source": [
    "d. Remove **one** of the rows with a duplicate **user_id**, but keep your dataframe as **df2**."
   ]
  },
  {
   "cell_type": "code",
   "execution_count": 13,
   "metadata": {},
   "outputs": [
    {
     "name": "stderr",
     "output_type": "stream",
     "text": [
      "C:\\Users\\cb1118\\AppData\\Local\\Continuum\\anaconda3\\lib\\site-packages\\ipykernel\\__main__.py:1: SettingWithCopyWarning: \n",
      "A value is trying to be set on a copy of a slice from a DataFrame\n",
      "\n",
      "See the caveats in the documentation: http://pandas.pydata.org/pandas-docs/stable/indexing.html#indexing-view-versus-copy\n",
      "  if __name__ == '__main__':\n"
     ]
    }
   ],
   "source": [
    "df2.drop(2893, inplace=True)"
   ]
  },
  {
   "cell_type": "code",
   "execution_count": 14,
   "metadata": {},
   "outputs": [
    {
     "data": {
      "text/html": [
       "<div>\n",
       "<style>\n",
       "    .dataframe thead tr:only-child th {\n",
       "        text-align: right;\n",
       "    }\n",
       "\n",
       "    .dataframe thead th {\n",
       "        text-align: left;\n",
       "    }\n",
       "\n",
       "    .dataframe tbody tr th {\n",
       "        vertical-align: top;\n",
       "    }\n",
       "</style>\n",
       "<table border=\"1\" class=\"dataframe\">\n",
       "  <thead>\n",
       "    <tr style=\"text-align: right;\">\n",
       "      <th></th>\n",
       "      <th>user_id</th>\n",
       "      <th>timestamp</th>\n",
       "      <th>group</th>\n",
       "      <th>landing_page</th>\n",
       "      <th>converted</th>\n",
       "    </tr>\n",
       "  </thead>\n",
       "  <tbody>\n",
       "    <tr>\n",
       "      <th>1899</th>\n",
       "      <td>773192</td>\n",
       "      <td>2017-01-09 05:37:58.781806</td>\n",
       "      <td>treatment</td>\n",
       "      <td>new_page</td>\n",
       "      <td>0</td>\n",
       "    </tr>\n",
       "  </tbody>\n",
       "</table>\n",
       "</div>"
      ],
      "text/plain": [
       "      user_id                   timestamp      group landing_page  converted\n",
       "1899   773192  2017-01-09 05:37:58.781806  treatment     new_page          0"
      ]
     },
     "execution_count": 14,
     "metadata": {},
     "output_type": "execute_result"
    }
   ],
   "source": [
    "df2.query(\"user_id == 773192\")"
   ]
  },
  {
   "cell_type": "markdown",
   "metadata": {},
   "source": [
    "`4.` Use **df2** in the below cells to answer the quiz questions related to **Quiz 4** in the classroom.\n",
    "\n",
    "a. What is the probability of an individual converting regardless of the page they receive?"
   ]
  },
  {
   "cell_type": "code",
   "execution_count": 15,
   "metadata": {},
   "outputs": [
    {
     "data": {
      "text/plain": [
       "0.11959708724499628"
      ]
     },
     "execution_count": 15,
     "metadata": {},
     "output_type": "execute_result"
    }
   ],
   "source": [
    "obs_mean = df2.converted.mean()\n",
    "obs_mean"
   ]
  },
  {
   "cell_type": "markdown",
   "metadata": {},
   "source": [
    "b. Given that an individual was in the `control` group, what is the probability they converted?"
   ]
  },
  {
   "cell_type": "code",
   "execution_count": 16,
   "metadata": {},
   "outputs": [
    {
     "data": {
      "text/plain": [
       "0.1203863045004612"
      ]
     },
     "execution_count": 16,
     "metadata": {},
     "output_type": "execute_result"
    }
   ],
   "source": [
    "(df2.query(\"group == 'control'\")['converted'] == 1).mean()"
   ]
  },
  {
   "cell_type": "markdown",
   "metadata": {},
   "source": [
    "c. Given that an individual was in the `treatment` group, what is the probability they converted?"
   ]
  },
  {
   "cell_type": "code",
   "execution_count": 17,
   "metadata": {},
   "outputs": [
    {
     "data": {
      "text/plain": [
       "0.11880806551510564"
      ]
     },
     "execution_count": 17,
     "metadata": {},
     "output_type": "execute_result"
    }
   ],
   "source": [
    "(df2.query(\"group == 'treatment'\")['converted'] == 1).mean()"
   ]
  },
  {
   "cell_type": "code",
   "execution_count": 18,
   "metadata": {},
   "outputs": [
    {
     "data": {
      "text/plain": [
       "-0.0015782389853555567"
      ]
     },
     "execution_count": 18,
     "metadata": {},
     "output_type": "execute_result"
    }
   ],
   "source": [
    "obs_diff = (df2.query(\"group == 'treatment'\")['converted'] == 1).mean() - (df2.query(\"group == 'control'\")['converted'] == 1).mean()\n",
    "obs_diff"
   ]
  },
  {
   "cell_type": "markdown",
   "metadata": {},
   "source": [
    "d. What is the probability that an individual received the new page?"
   ]
  },
  {
   "cell_type": "code",
   "execution_count": 19,
   "metadata": {},
   "outputs": [
    {
     "data": {
      "text/plain": [
       "0.50006194422266881"
      ]
     },
     "execution_count": 19,
     "metadata": {},
     "output_type": "execute_result"
    }
   ],
   "source": [
    "(df2.query(\"converted >= 0\")['landing_page'] == 'new_page').mean()"
   ]
  },
  {
   "cell_type": "markdown",
   "metadata": {},
   "source": [
    "e. Consider your results from a. through d. above, and explain below whether you think there is sufficient evidence to say that the new treatment page leads to more conversions."
   ]
  },
  {
   "cell_type": "markdown",
   "metadata": {},
   "source": [
    "**Answer**\n",
    "\n",
    "Given the information above, there is not enough evidence to indicate that the new treatment page will lead to more conversions.  50% of all users landing on the new page meaning that an equal number of conversion occurred on the old page.  Because the number of conversions on the new page was equal to or less than the old page, the null hypothesis is true in this case (given the information we have). "
   ]
  },
  {
   "cell_type": "markdown",
   "metadata": {},
   "source": [
    "<a id='ab_test'></a>\n",
    "### Part II - A/B Test\n",
    "\n",
    "Notice that because of the time stamp associated with each event, you could technically run a hypothesis test continuously as each observation was observed.  \n",
    "\n",
    "However, then the hard question is do you stop as soon as one page is considered significantly better than another or does it need to happen consistently for a certain amount of time?  How long do you run to render a decision that neither page is better than another?  \n",
    "\n",
    "These questions are the difficult parts associated with A/B tests in general.  \n",
    "\n",
    "\n",
    "`1.` For now, consider you need to make the decision just based on all the data provided.  If you want to assume that the old page is better unless the new page proves to be definitely better at a Type I error rate of 5%, what should your null and alternative hypotheses be?  You can state your hypothesis in terms of words or in terms of **$p_{old}$** and **$p_{new}$**, which are the converted rates for the old and new pages."
   ]
  },
  {
   "cell_type": "markdown",
   "metadata": {},
   "source": [
    "#### Part II, Question 1 Answer\n",
    "\n",
    "<br>\n",
    "\n",
    "**Null Hypothesis**\n",
    "<br>\n",
    "**$p_{old}$** >= **$p_{new}$**\n",
    "<br>\n",
    "<br>\n",
    "**Alternative Hypothesis**\n",
    "<br>\n",
    "**$p_{new}$** < **$p_{old}$**\n",
    "\n",
    "\n",
    "\n"
   ]
  },
  {
   "cell_type": "markdown",
   "metadata": {},
   "source": [
    "`2.` Assume under the null hypothesis, $p_{new}$ and $p_{old}$ both have \"true\" success rates equal to the **converted** success rate regardless of page - that is $p_{new}$ and $p_{old}$ are equal. Furthermore, assume they are equal to the **converted** rate in **ab_data.csv** regardless of the page. <br><br>\n",
    "\n",
    "Use a sample size for each page equal to the ones in **ab_data.csv**.  <br><br>\n",
    "\n",
    "Perform the sampling distribution for the difference in **converted** between the two pages over 10,000 iterations of calculating an estimate from the null.  <br><br>\n",
    "\n",
    "Use the cells below to provide the necessary parts of this simulation.  If this doesn't make complete sense right now, don't worry - you are going to work through the problems below to complete this problem.  You can use **Quiz 5** in the classroom to make sure you are on the right track.<br><br>"
   ]
  },
  {
   "cell_type": "markdown",
   "metadata": {},
   "source": [
    "a. What is the **convert rate** for $p_{new}$ under the null? "
   ]
  },
  {
   "cell_type": "code",
   "execution_count": 20,
   "metadata": {},
   "outputs": [
    {
     "data": {
      "text/plain": [
       "0.11959708724499628"
      ]
     },
     "execution_count": 20,
     "metadata": {},
     "output_type": "execute_result"
    }
   ],
   "source": [
    "#since we are referring to the null in this argument, this is simply the conversion rate for the entire \n",
    "#data set since the null argument is that there is no difference in conversion rate.\n",
    "treatment_cnv = df2.converted.mean()\n",
    "treatment_cnv"
   ]
  },
  {
   "cell_type": "markdown",
   "metadata": {},
   "source": [
    "b. What is the **convert rate** for $p_{old}$ under the null? <br><br>"
   ]
  },
  {
   "cell_type": "code",
   "execution_count": 21,
   "metadata": {},
   "outputs": [
    {
     "data": {
      "text/plain": [
       "0.11959708724499628"
      ]
     },
     "execution_count": 21,
     "metadata": {},
     "output_type": "execute_result"
    }
   ],
   "source": [
    "#since we are referring to the null in this argument, this is simply the conversion rate for the entire \n",
    "#data set since the null argument is that there is no difference in conversion rate.\n",
    "control_cnv = df2.converted.mean()\n",
    "control_cnv"
   ]
  },
  {
   "cell_type": "markdown",
   "metadata": {},
   "source": [
    "c. What is $n_{new}$?"
   ]
  },
  {
   "cell_type": "code",
   "execution_count": 22,
   "metadata": {},
   "outputs": [
    {
     "data": {
      "text/plain": [
       "145310"
      ]
     },
     "execution_count": 22,
     "metadata": {},
     "output_type": "execute_result"
    }
   ],
   "source": [
    "treatment_num = df2.query('group==\"treatment\"').shape[0]\n",
    "treatment_num"
   ]
  },
  {
   "cell_type": "markdown",
   "metadata": {},
   "source": [
    "d. What is $n_{old}$?"
   ]
  },
  {
   "cell_type": "code",
   "execution_count": 23,
   "metadata": {},
   "outputs": [
    {
     "data": {
      "text/plain": [
       "145274"
      ]
     },
     "execution_count": 23,
     "metadata": {},
     "output_type": "execute_result"
    }
   ],
   "source": [
    "control_num = df2.query('group==\"control\"').shape[0]\n",
    "control_num"
   ]
  },
  {
   "cell_type": "markdown",
   "metadata": {},
   "source": [
    "e. Simulate $n_{new}$ transactions with a convert rate of $p_{new}$ under the null.  Store these $n_{new}$ 1's and 0's in **new_page_converted**."
   ]
  },
  {
   "cell_type": "code",
   "execution_count": 24,
   "metadata": {},
   "outputs": [
    {
     "data": {
      "text/plain": [
       "0.11928979423301907"
      ]
     },
     "execution_count": 24,
     "metadata": {},
     "output_type": "execute_result"
    }
   ],
   "source": [
    "new_page_converted = np.random.binomial(1, treatment_cnv, treatment_num)\n",
    "new_page_converted.mean()"
   ]
  },
  {
   "cell_type": "markdown",
   "metadata": {},
   "source": [
    "f. Simulate $n_{old}$ transactions with a convert rate of $p_{old}$ under the null.  Store these $n_{old}$ 1's and 0's in **old_page_converted**."
   ]
  },
  {
   "cell_type": "code",
   "execution_count": 25,
   "metadata": {},
   "outputs": [
    {
     "data": {
      "text/plain": [
       "0.11936065641477484"
      ]
     },
     "execution_count": 25,
     "metadata": {},
     "output_type": "execute_result"
    }
   ],
   "source": [
    "old_page_converted = np.random.binomial(1, control_cnv, control_num)\n",
    "old_page_converted.mean()"
   ]
  },
  {
   "cell_type": "markdown",
   "metadata": {},
   "source": [
    "g. Find $p_{new}$ - $p_{old}$ for your simulated values from part (e) and (f)."
   ]
  },
  {
   "cell_type": "code",
   "execution_count": 26,
   "metadata": {},
   "outputs": [
    {
     "data": {
      "text/plain": [
       "-7.0862181755768083e-05"
      ]
     },
     "execution_count": 26,
     "metadata": {},
     "output_type": "execute_result"
    }
   ],
   "source": [
    "diff = new_page_converted.mean() - old_page_converted.mean()\n",
    "diff"
   ]
  },
  {
   "cell_type": "markdown",
   "metadata": {},
   "source": [
    "h. Simulate 10,000 $p_{new}$ - $p_{old}$ values using this same process similarly to the one you calculated in parts **a. through g.** above.  Store all 10,000 values in a numpy array called **p_diffs**."
   ]
  },
  {
   "cell_type": "code",
   "execution_count": 27,
   "metadata": {},
   "outputs": [],
   "source": [
    "p_diffs = []\n",
    "\n",
    "for _ in range(10000):\n",
    "    old_page_converted = np.random.binomial(1, control_cnv, control_num)\n",
    "    new_page_converted = np.random.binomial(1, treatment_cnv, treatment_num)\n",
    "    p_diffs.append(new_page_converted.mean() - old_page_converted.mean())\n",
    "    "
   ]
  },
  {
   "cell_type": "code",
   "execution_count": 29,
   "metadata": {},
   "outputs": [],
   "source": [
    "new_converted_simulation = np.random.binomial(treatment_num, treatment_cnv,  10000)/treatment_num\n",
    "old_converted_simulation = np.random.binomial(control_num, control_cnv,  10000)/control_num\n",
    "p_diffs2 = new_converted_simulation - old_converted_simulation"
   ]
  },
  {
   "cell_type": "code",
   "execution_count": 31,
   "metadata": {},
   "outputs": [
    {
     "data": {
      "text/plain": [
       "([-0.00027738897219573011,\n",
       "  -0.00035994375217329733,\n",
       "  3.2189747348268516e-05,\n",
       "  0.00053482319827290181,\n",
       "  0.00092738133539822798,\n",
       "  -0.0011997071531579112,\n",
       "  0.00030736609424321382,\n",
       "  -0.0012617068013643234,\n",
       "  0.0010164018434588862,\n",
       "  0.0012576413842341899,\n",
       "  -0.001826024406693369,\n",
       "  0.0024620296885219523,\n",
       "  0.0019320513570815628,\n",
       "  0.0011472130584510437,\n",
       "  -0.00063535714576269664,\n",
       "  -0.00030505446262918401,\n",
       "  -0.00065595832257524245,\n",
       "  0.0020146317176376882,\n",
       "  0.00017693688255725204,\n",
       "  0.00095463412583124407,\n",
       "  -0.00039421822192965694,\n",
       "  -0.0014062134791350267,\n",
       "  0.0013125477274973513,\n",
       "  -0.00088292939561268602,\n",
       "  0.0014430434486874949,\n",
       "  -0.001647395037265631,\n",
       "  -0.00091731812528653145,\n",
       "  0.00039720859156094912,\n",
       "  -0.00048373840395780909,\n",
       "  -0.00071098404187157349,\n",
       "  -0.00019478644180488669,\n",
       "  -0.00024967573134900001,\n",
       "  -0.00064241634326792085,\n",
       "  -0.00051827891173099327,\n",
       "  -0.0010209140680275119,\n",
       "  -0.0010205320647213162,\n",
       "  -0.00031191583699367864,\n",
       "  -0.00019487171040000195,\n",
       "  -0.0011514643611185565,\n",
       "  -0.0013373405189607973,\n",
       "  0.0012849999077251678,\n",
       "  0.00021095725190012349,\n",
       "  0.00012166388433502984,\n",
       "  -0.002273330287494893,\n",
       "  -0.0009037301009378329,\n",
       "  -0.0013786997668008977,\n",
       "  -0.0010551237336515751,\n",
       "  0.00095458637541798175,\n",
       "  0.00045235368689046374,\n",
       "  0.00029405092939893684,\n",
       "  -0.0013992395502249455,\n",
       "  -0.00031196358740695485,\n",
       "  -7.113845200400204e-05,\n",
       "  -0.00044978966023484501,\n",
       "  -0.0021424883758085073,\n",
       "  -0.001241124383642711,\n",
       "  -0.00021555303969197914,\n",
       "  0.0022005522151493928,\n",
       "  0.0011336608469122988,\n",
       "  0.0012920437568832571,\n",
       "  0.00034189125366924922,\n",
       "  -0.00066280605396451531,\n",
       "  0.00060360747910818968,\n",
       "  0.000830730330244972,\n",
       "  -0.00060071090493156454,\n",
       "  0.00058281188989876831,\n",
       "  -0.00064236347673893301,\n",
       "  0.0016360384920515447,\n",
       "  -2.9572854163675832e-05,\n",
       "  -0.001826032933552893,\n",
       "  -0.00032554479026804251,\n",
       "  -9.8601003181042479e-05,\n",
       "  0.0013330363497642966,\n",
       "  -0.00056624884426589861,\n",
       "  -0.0027483135963331934,\n",
       "  -0.00060101105038642966,\n",
       "  0.0024617670612489539,\n",
       "  0.0010990589457506306,\n",
       "  0.00057588230065815094,\n",
       "  -0.0014338755588246682,\n",
       "  0.00061736945139095889,\n",
       "  -0.00084876406965808671,\n",
       "  0.00072070958834656584,\n",
       "  -0.00071810292739336867,\n",
       "  0.0012438026702158017,\n",
       "  -0.0014547001393564601,\n",
       "  0.00038346708374101257,\n",
       "  0.0012641054069453816,\n",
       "  0.00078930798364447441,\n",
       "  -0.00050466871754754894,\n",
       "  0.0019110954629132787,\n",
       "  -0.0041249235246103161,\n",
       "  -0.0011928730647438462,\n",
       "  -0.00037370913519986504,\n",
       "  -0.0007798211892358492,\n",
       "  0.0014156951574279264,\n",
       "  -0.0012616300596287044,\n",
       "  0.001133669373771809,\n",
       "  0.00056916247216157179,\n",
       "  -0.00025688159083783746,\n",
       "  0.0014984886894718746,\n",
       "  -0.00013267253368098864,\n",
       "  -0.0016952779958335357,\n",
       "  -0.0011861208341811258,\n",
       "  -0.0012410970976922675,\n",
       "  -0.00069016969357120483,\n",
       "  -0.00023617127022353135,\n",
       "  0.00045214733689023789,\n",
       "  -0.00051821922371438067,\n",
       "  0.0017184449046735856,\n",
       "  0.0022896272951109381,\n",
       "  0.0013330261175328872,\n",
       "  6.0041123319115597e-05,\n",
       "  5.9701754310484412e-05,\n",
       "  0.00014263683222234813,\n",
       "  0.00077602522086633874,\n",
       "  -0.0012066913142993879,\n",
       "  -0.0012820999228047303,\n",
       "  -2.4070376976881303e-06,\n",
       "  0.0010922538486589084,\n",
       "  -0.0022665388333784064,\n",
       "  0.00078920225058649873,\n",
       "  -0.00022918199296632913,\n",
       "  -0.0010621351807435092,\n",
       "  -0.0022594608767822627,\n",
       "  0.0010372707636601419,\n",
       "  -0.00092422895543620154,\n",
       "  0.0020352942878387181,\n",
       "  -0.00047010603993964672,\n",
       "  0.0009477011258468282,\n",
       "  -0.00073153235215513146,\n",
       "  0.0019251916880889675,\n",
       "  -0.0011792202362628512,\n",
       "  0.0028128022348315185,\n",
       "  -0.00049761804690186262,\n",
       "  -0.00044922859287886696,\n",
       "  -0.00062133595695074151,\n",
       "  0.00091345394204091213,\n",
       "  0.0012227359268738441,\n",
       "  1.8785903165050022e-05,\n",
       "  0.0030399387289435087,\n",
       "  -0.00095206668843182685,\n",
       "  0.0014916477795702127,\n",
       "  0.00094087556429228725,\n",
       "  0.00021775211676042239,\n",
       "  -0.0009311977682305711,\n",
       "  0.00020444547877565555,\n",
       "  0.0012019863827057858,\n",
       "  8.0403548065266506e-05,\n",
       "  -0.0017638746857595311,\n",
       "  0.0022623472187274923,\n",
       "  0.00076165443081432915,\n",
       "  0.00038337158291446016,\n",
       "  -0.0013649002763362894,\n",
       "  0.0019596980884240972,\n",
       "  0.00083076102693921405,\n",
       "  -0.0016816132297492181,\n",
       "  0.00021807443205001942,\n",
       "  -0.0022802735197107321,\n",
       "  0.0014362912181247606,\n",
       "  -2.3371174496938929e-06,\n",
       "  -0.00057299936945674756,\n",
       "  0.0019729791458303197,\n",
       "  7.3438146014709327e-05,\n",
       "  1.1786393676438411e-05,\n",
       "  -0.00044924905734169962,\n",
       "  0.00020471151679246624,\n",
       "  -0.0017639940617927147,\n",
       "  0.00065860420708219181,\n",
       "  0.00076878695931134611,\n",
       "  0.00044510007698835008,\n",
       "  -0.0022871672961413819,\n",
       "  -0.00065583553579824649,\n",
       "  -0.0016745369785249736,\n",
       "  -0.00096542619294556764,\n",
       "  -0.00040827351817969426,\n",
       "  -0.0011242831963054478,\n",
       "  -0.00049754130516624362,\n",
       "  -2.9523398378500376e-05,\n",
       "  -0.00066271737462558766,\n",
       "  0.0005278970197761107,\n",
       "  0.0025237905846619973,\n",
       "  0.00023888025349087794,\n",
       "  -0.0025210867175103624,\n",
       "  -0.00082106788253039076,\n",
       "  0.00071340652265927673,\n",
       "  0.00133305510885523,\n",
       "  1.1513534172016837e-05,\n",
       "  0.00023181593986995597,\n",
       "  0.0017872956950130831,\n",
       "  0.0012159257136664242,\n",
       "  -0.0010414879588896142,\n",
       "  -0.00044262984578738451,\n",
       "  -0.00013961917664062629,\n",
       "  0.0022758738496876929,\n",
       "  -0.0005944549375924979,\n",
       "  0.00032828105948583264,\n",
       "  -0.0011994172399344555,\n",
       "  -0.00033918397577382964,\n",
       "  0.0019871128891878476,\n",
       "  0.0032737967569239912,\n",
       "  0.0013951246773096504,\n",
       "  0.00081022977037469024,\n",
       "  -0.00060084392393996988,\n",
       "  0.0013537944207918789,\n",
       "  0.00065137617775860857,\n",
       "  0.0010786197792688329,\n",
       "  0.00070663723837750825,\n",
       "  -0.00062124898298369924,\n",
       "  -0.0013925572399102193,\n",
       "  0.0016084036983123329,\n",
       "  0.00025973723608881116,\n",
       "  -0.00046331970193885796,\n",
       "  -0.00025670082141615591,\n",
       "  -0.00054595804513965507,\n",
       "  -0.0014475335034213749,\n",
       "  0.00064504687942773531,\n",
       "  -0.0010068331911989581,\n",
       "  0.0002733798323383968,\n",
       "  3.2063549827474058e-05,\n",
       "  0.0010235889438568041,\n",
       "  -0.0024660763465611524,\n",
       "  0.0015945189392525816,\n",
       "  -0.00066291008165059173,\n",
       "  0.00018384089121932512,\n",
       "  0.0017529837070748566,\n",
       "  0.0011128959543971195,\n",
       "  -0.001564135938692271,\n",
       "  0.00031471008885615437,\n",
       "  0.00063777280506278899,\n",
       "  -0.00033226461876462166,\n",
       "  -0.0011102091409645048,\n",
       "  -0.0018262137029745606,\n",
       "  -0.001626524411692476,\n",
       "  0.00069310037518588441,\n",
       "  -0.0014888484115920253,\n",
       "  0.0012092741000459539,\n",
       "  0.00031439800579798061,\n",
       "  2.5444338273145073e-05,\n",
       "  -0.0022939758039769026,\n",
       "  0.00039713184982533012,\n",
       "  -0.00029104180067672514,\n",
       "  -0.0021081832093578917,\n",
       "  -0.0021631697051004706,\n",
       "  0.0017321625372868771,\n",
       "  -0.00072450214597226392,\n",
       "  -0.00038726305211052303,\n",
       "  0.0013607069563134622,\n",
       "  0.00073421575484391988,\n",
       "  0.00052093673384125128,\n",
       "  -0.00073182567612238569,\n",
       "  -0.0033538471982625384,\n",
       "  -0.001839615841785866,\n",
       "  0.0014911941506441095,\n",
       "  -0.0016398958538095393,\n",
       "  -0.00013996877788066686,\n",
       "  -2.2760935584342779e-05,\n",
       "  -0.0005733216847463446,\n",
       "  -2.2870079386103082e-05,\n",
       "  -0.0022528007363022684,\n",
       "  -0.0019291411399297159,\n",
       "  -0.00032563346960697015,\n",
       "  0.0011056235854040725,\n",
       "  -0.00022930648511522433,\n",
       "  -0.00056640744385284825,\n",
       "  -0.00093823991201674728,\n",
       "  0.001491489179983263,\n",
       "  0.00053483172513242583,\n",
       "  -0.0014679914289940921,\n",
       "  0.0020834057662415528,\n",
       "  0.0023860566019168472,\n",
       "  -0.0023559021211915082,\n",
       "  -0.0017573560911474523,\n",
       "  -2.2670550873502004e-05,\n",
       "  0.00034188784292546459,\n",
       "  -0.0006077888615276944,\n",
       "  -0.00024981045572931848,\n",
       "  -0.0015160432193803419,\n",
       "  0.00017006357058943489,\n",
       "  0.00080320297493563508,\n",
       "  -0.0011516383090526272,\n",
       "  -0.0016953615590567656,\n",
       "  -0.0020599353012028393,\n",
       "  0.00072053393504059593,\n",
       "  -8.4885075939650223e-05,\n",
       "  0.00039727680643705798,\n",
       "  5.2918827053508033e-05,\n",
       "  0.00058963574608141001,\n",
       "  -0.00050448283201016964,\n",
       "  -0.00088995107493604342,\n",
       "  0.001491197561387908,\n",
       "  -0.00077278416156537078,\n",
       "  0.00028001609761174606,\n",
       "  0.00021812047709139637,\n",
       "  0.00025951042162575266,\n",
       "  0.00024577914603723938,\n",
       "  0.00084419215707287609,\n",
       "  -4.3455907851513986e-05,\n",
       "  -0.00085579768658475275,\n",
       "  1.156981144480318e-05,\n",
       "  0.0013673960881157993,\n",
       "  -0.0020395063669524788,\n",
       "  0.0024960841653028781,\n",
       "  0.0002041521548084152,\n",
       "  -6.3639268547910355e-05,\n",
       "  0.0014362093602734299,\n",
       "  -0.0007522034492156715,\n",
       "  -0.0011449747578288205,\n",
       "  -0.0015300285953823572,\n",
       "  -0.001309802931420051,\n",
       "  0.0019181273744680455,\n",
       "  0.00045886375464301854,\n",
       "  0.0018904925807288614,\n",
       "  -0.00028420600689076092,\n",
       "  -0.00013315344855754918,\n",
       "  -0.00069050735720792289,\n",
       "  0.00080989210673797218,\n",
       "  0.00070653662143524421,\n",
       "  0.00028708382197646654,\n",
       "  0.00053455716025609112,\n",
       "  0.0006516081083373787,\n",
       "  0.0010651255503747875,\n",
       "  -0.00075907846655538791,\n",
       "  0.00023171702829960505,\n",
       "  -0.0016949829664943683,\n",
       "  0.00022498014608399175,\n",
       "  2.5410230835090641e-05,\n",
       "  0.00049379479258189474,\n",
       "  0.0033013599250432957,\n",
       "  -9.1841951130697264e-05,\n",
       "  -0.00033940396874926337,\n",
       "  0.00080316375138186902,\n",
       "  -0.00063531110072133357,\n",
       "  -0.00065600948373231716,\n",
       "  0.0010715060098627494,\n",
       "  -0.0019431299266755436,\n",
       "  -0.0011375165032983942,\n",
       "  0.00036246002841563985,\n",
       "  -0.00060771894127970016,\n",
       "  -0.0016057902158715387,\n",
       "  0.0027578140337170404,\n",
       "  -0.00033941590635258589,\n",
       "  -0.0025485901976130682,\n",
       "  0.0008032728951836432,\n",
       "  -3.6396710346317529e-05,\n",
       "  0.000335509088809402,\n",
       "  -0.00044266395322542507,\n",
       "  0.00028000757075222205,\n",
       "  0.00018363965733481091,\n",
       "  -0.0017984851137807095,\n",
       "  0.0014363696652322788,\n",
       "  -0.0011653354772030861,\n",
       "  -0.000442624729671659,\n",
       "  -0.00058031778349114382,\n",
       "  -0.00095899627767243034,\n",
       "  -0.0010758442864973045,\n",
       "  -0.00198434421790393,\n",
       "  -0.0011789610197336514,\n",
       "  0.0020006940920489491,\n",
       "  -0.00040811832933654313,\n",
       "  -0.00028449421474230352,\n",
       "  -0.00044985275899524224,\n",
       "  0.00052814600407388723,\n",
       "  0.0013127233808033073,\n",
       "  -3.0188493420527096e-05,\n",
       "  0.00067263562812557021,\n",
       "  -0.0013304382156706235,\n",
       "  -0.0014612852434727347,\n",
       "  0.00059667618449568693,\n",
       "  -0.00010521509861965983,\n",
       "  -0.0013718042849983486,\n",
       "  -0.0017159013424807856,\n",
       "  0.00051416062807187191,\n",
       "  0.0036526287345765157,\n",
       "  0.00098888130963717402,\n",
       "  0.0028748632764264148,\n",
       "  -0.00024333108467100573,\n",
       "  -0.00081401039039707968,\n",
       "  -0.0017089905123311155,\n",
       "  0.00025930918774123846,\n",
       "  0.0013676535992730998,\n",
       "  8.041036955289127e-05,\n",
       "  -0.00044941277304436089,\n",
       "  -0.00088997836088647309,\n",
       "  -0.002363017595969491,\n",
       "  -0.0018669470793264004,\n",
       "  -0.0020256233132646129,\n",
       "  0.00043151546338345004,\n",
       "  -0.0018262205244621715,\n",
       "  0.0023105763677916114,\n",
       "  0.0013743990083482233,\n",
       "  -9.1500876750166826e-05,\n",
       "  -0.00061481395159486418,\n",
       "  -0.00086946074729717104,\n",
       "  -0.00088964922410926517,\n",
       "  -0.0029686023590559246,\n",
       "  -0.00097951218588983313,\n",
       "  -0.00034635231708080028,\n",
       "  -0.00061466217349552543,\n",
       "  -0.00075911257399345622,\n",
       "  -0.00097910289663320771,\n",
       "  -0.00053234102946861372,\n",
       "  -0.0010548508741471535,\n",
       "  0.00069981849831057819,\n",
       "  0.0014915369303965254,\n",
       "  -0.0015988384567961894,\n",
       "  0.00041782852746440058,\n",
       "  -0.00074556036245471136,\n",
       "  0.00017676805073889301,\n",
       "  0.00033499577186670015,\n",
       "  -0.0023215048646581388,\n",
       "  -0.0041247325229572251,\n",
       "  -0.0016539852574976172,\n",
       "  4.9164924524197628e-06,\n",
       "  0.0025514765395582978,\n",
       "  0.0010300376182208609,\n",
       "  -0.0010552584580318936,\n",
       "  -5.7306559473224716e-05,\n",
       "  0.0002386926625815855,\n",
       "  -5.7026878481206134e-05,\n",
       "  -0.00020163587856607268,\n",
       "  0.0010507377066037576,\n",
       "  0.0017323569496837804,\n",
       "  -0.00091056930546759562,\n",
       "  -9.2462422274647293e-06,\n",
       "  0.0012505139718528707,\n",
       "  0.00036286079081276901,\n",
       "  0.00094772500105347324,\n",
       "  0.00074796920026717895,\n",
       "  0.0010306089178082484,\n",
       "  0.0022759574129109228,\n",
       "  -0.0010553676018336539,\n",
       "  -0.0010759807162495222,\n",
       "  0.00048639110995235546,\n",
       "  0.00061743084477945687,\n",
       "  0.0012436236061660333,\n",
       "  0.0023999515932080356,\n",
       "  0.00031454978389730548,\n",
       "  0.0032878060081326516,\n",
       "  0.00039025001099798895,\n",
       "  -0.00032556184398707666,\n",
       "  0.00088600503383909346,\n",
       "  0.0042307185444197537,\n",
       "  0.00072073005280938462,\n",
       "  -0.0016678154446564813,\n",
       "  -0.00093825696573578143,\n",
       "  0.0011746892526033059,\n",
       "  -0.0021013150135057723,\n",
       "  0.00045923723108970416,\n",
       "  -6.3804689622457e-05,\n",
       "  0.0011335875159204922,\n",
       "  -2.2679077733026021e-05,\n",
       "  0.00070000267847605824,\n",
       "  -0.00027755439327027676,\n",
       "  0.0019525740867865904,\n",
       "  0.00093400907381208098,\n",
       "  0.00012868726903030037,\n",
       "  -0.001034375894855416,\n",
       "  -0.0031266578376215604,\n",
       "  -0.00055265399842960305,\n",
       "  0.00048673047896098665,\n",
       "  0.0010440843876113742,\n",
       "  1.149648045299656e-05,\n",
       "  0.0011609204588329258,\n",
       "  -0.00040144454588134093,\n",
       "  0.0019801099689554374,\n",
       "  -2.0625525733591887e-06,\n",
       "  -0.0014063106853334784,\n",
       "  -0.00024974224085320962,\n",
       "  -9.8317911445211514e-05,\n",
       "  -0.0014817022401197866,\n",
       "  0.0018494317729716991,\n",
       "  0.00092041763871957005,\n",
       "  0.00030777197275602686,\n",
       "  0.0018491827886739087,\n",
       "  -0.00085546002294803469,\n",
       "  0.0015261627067648387,\n",
       "  -0.0004425019428946908,\n",
       "  -0.0017710345002069916,\n",
       "  -0.0023146980621945173,\n",
       "  -0.0017778344811830021,\n",
       "  0.0018011378197752698,\n",
       "  -0.0011926240804460558,\n",
       "  0.0015671962285715574,\n",
       "  0.00024563248405361227,\n",
       "  0.001587918486789186,\n",
       "  0.00033519871112311361,\n",
       "  -0.00086912649440425149,\n",
       "  -0.00025686624249071643,\n",
       "  -0.00052518292039305248,\n",
       "  0.0010093869856231535,\n",
       "  0.00023866196588734345,\n",
       "  -0.00046325660317844686,\n",
       "  -0.0012063672936378916,\n",
       "  -0.0004494639342014356,\n",
       "  0.0011814960550669273,\n",
       "  0.0010443640686034067,\n",
       "  0.0017875003396413958,\n",
       "  -0.00063536567262222066,\n",
       "  0.0012573975160521111,\n",
       "  -0.00031845148532477774,\n",
       "  -0.00088301978032352679,\n",
       "  0.00085156684838007257,\n",
       "  -0.00055942498808327079,\n",
       "  -0.00047690090479993175,\n",
       "  -0.00055953072114123259,\n",
       "  -0.0014888859297738782,\n",
       "  -6.4014450366495224e-05,\n",
       "  0.00028674786371164773,\n",
       "  -0.00025661725819292602,\n",
       "  0.00062437237162338288,\n",
       "  -0.0014544630926619923,\n",
       "  -0.00070401863982101631,\n",
       "  0.0015466308645689653,\n",
       "  0.00039009482215485169,\n",
       "  0.0017668735822503195,\n",
       "  -0.00091075860174878731,\n",
       "  0.00098922238401770446,\n",
       "  0.0003214486764436808,\n",
       "  0.00081723098523521498,\n",
       "  -0.0014818898310290651,\n",
       "  0.0021728611441374085,\n",
       "  0.00081682681209428731,\n",
       "  0.00063124227284740153,\n",
       "  -0.00090396203151658916,\n",
       "  -0.0018672659838721989,\n",
       "  -0.0008486685688315343,\n",
       "  0.0013538319389737319,\n",
       "  -0.00035975104514830714,\n",
       "  -0.0010205798151345924,\n",
       "  -0.00070444327742476276,\n",
       "  -5.0375264860708091e-05,\n",
       "  -5.7187183440055023e-05,\n",
       "  -0.0023629579079529062,\n",
       "  8.7348485653004904e-05,\n",
       "  0.00024568535058258623,\n",
       "  0.0010576979925386171,\n",
       "  0.00062436043402006036,\n",
       "  -8.9205161940553168e-06,\n",
       "  -0.0014611863319023838,\n",
       "  0.0017530178145128972,\n",
       "  -0.001440508413354219,\n",
       "  0.0017666706429939061,\n",
       "  0.0010922231519646664,\n",
       "  -0.0014819682781365973,\n",
       "  0.00051390823303028299,\n",
       "  -0.00011913396511746555,\n",
       "  -0.0013511928759544073,\n",
       "  -0.00028435437424628729,\n",
       "  0.0020214470469608059,\n",
       "  0.001484455563056597,\n",
       "  0.0015947474590875393,\n",
       "  -0.00081441797428181972,\n",
       "  0.00026651675260197516,\n",
       "  -0.0026931804386070152,\n",
       "  -0.00018096819224933114,\n",
       "  4.7749465845042804e-06,\n",
       "  0.0014639464763268051,\n",
       "  0.0010030201691104135,\n",
       "  1.8513043660628448e-05,\n",
       "  0.00063801837861676702,\n",
       "  0.0015188289443833075,\n",
       "  -0.0023215696687904491,\n",
       "  9.4452022827692939e-05,\n",
       "  -0.00024282799995972715,\n",
       "  -0.00033943637081540468,\n",
       "  0.00073444598005077688,\n",
       "  0.00096821703406423099,\n",
       "  8.063718401594977e-05,\n",
       "  0.0012437310445958943,\n",
       "  -0.00092453080626296591,\n",
       "  -0.0020120369942878275,\n",
       "  0.00056230962465657341,\n",
       "  0.0012643560966150713,\n",
       "  0.0016568613672114096,\n",
       "  -1.5989945930675042e-05,\n",
       "  -0.00035305509185834527,\n",
       "  0.00089967491603912264,\n",
       "  0.0012368816078347084,\n",
       "  -0.0029341522359935951,\n",
       "  0.0026887858846996737,\n",
       "  0.0023727687230230277,\n",
       "  -0.0013510854375245324,\n",
       "  -0.0021702425455809027,\n",
       "  0.00095424018492173968,\n",
       "  0.0007341952903811011,\n",
       "  -0.00063543388749832952,\n",
       "  -0.001007254418058906,\n",
       "  0.00080326948443983082,\n",
       "  0.00038314476845140166,\n",
       "  0.00063807465588956724,\n",
       "  -0.0018328636112231317,\n",
       "  0.00048664862110965601,\n",
       "  -0.00036004266374364824,\n",
       "  0.0012436798834388196,\n",
       "  4.6168301862686834e-05,\n",
       "  -0.00082817312507697805,\n",
       "  -0.00015328905884065547,\n",
       "  -0.00062157811976090716,\n",
       "  -0.0012961364599638203,\n",
       "  0.00015607819458741956,\n",
       "  -0.0016264067410312055,\n",
       "  -0.00087621979934751626,\n",
       "  -0.002080534772643472,\n",
       "  -0.00060077400369196177,\n",
       "  -0.00065621412836062987,\n",
       "  -0.00121357997461434,\n",
       "  0.00085124453309047554,\n",
       "  -0.0015301462660436416,\n",
       "  0.00095468699236023191,\n",
       "  0.0017944196966505899,\n",
       "  -0.0028998726501215238,\n",
       "  0.0010648680392175008,\n",
       "  0.00093348893538176825,\n",
       "  0.00088558551235104477,\n",
       "  -0.0020186238037760013,\n",
       "  0.0025101343454371899,\n",
       "  -0.0013236365293227137,\n",
       "  0.00078261544109832493,\n",
       "  0.0015880941400951559,\n",
       "  -0.00056657968641501966,\n",
       "  -0.00076587333141568681,\n",
       "  -0.0003945422425911671,\n",
       "  -0.00031199769484500928,\n",
       "  -0.0018053703633518492,\n",
       "  -2.3040616576375239e-05,\n",
       "  0.00061727565593631961,\n",
       "  0.00098219388320673617,\n",
       "  -0.00024288257186061424,\n",
       "  0.00035574872677857083,\n",
       "  -0.00067674538492515368,\n",
       "  -0.00091760121702236241,\n",
       "  0.00047310834717423367,\n",
       "  0.00052104928838682396,\n",
       "  0.00014919635576009227,\n",
       "  -0.00060754158260181712,\n",
       "  -0.00071111365013618033,\n",
       "  0.0016015184487411932,\n",
       "  -0.00025005091316758488,\n",
       "  -0.001144587638406927,\n",
       "  0.00050722762808746991,\n",
       "  0.0009615944117661035,\n",
       "  0.0010578412437784318,\n",
       "  0.00074800330770523338,\n",
       "  -0.001344256465226179,\n",
       "  0.00030736097812750218,\n",
       "  -0.00078658024128618054,\n",
       "  -0.0012823778984248635,\n",
       "  -0.00055952901576931946,\n",
       "  -0.0014543249575378753,\n",
       "  -0.0012271543559878167,\n",
       "  0.00091995036681824516,\n",
       "  -0.00036703364637276359,\n",
       "  0.00055523507880424205,\n",
       "  -0.00061440466233822488,\n",
       "  0.00092019423500032393,\n",
       "  -0.0015784044064301173,\n",
       "  0.0018767664212560459,\n",
       "  -8.4532063955811143e-05,\n",
       "  0.00039739447709832842,\n",
       "  -0.00048377421676776278,\n",
       "  0.00056233349986321846,\n",
       "  0.0019593075582583913,\n",
       "  0.00065159446536215693,\n",
       "  -0.0017298031552595711,\n",
       "  0.0025582799312781068,\n",
       "  -0.00066988742130445755,\n",
       "  -0.0014199890943930177,\n",
       "  0.0012228382491880074,\n",
       "  0.00031443381860793429,\n",
       "  -0.00071814385631903399,\n",
       "  2.5403409347479755e-05,\n",
       "  0.0020900778443248696,\n",
       "  0.00081017519847380315,\n",
       "  0.00015582238880203214,\n",
       "  0.0011058845073051715,\n",
       "  0.00052783221564380034,\n",
       "  -0.00019484612982147154,\n",
       "  -0.0012272993125995446,\n",
       "  -0.00029102815770150336,\n",
       "  -0.0011719717424764492,\n",
       "  -0.0015231535780426408,\n",
       "  -0.00061469798630547912,\n",
       "  0.0016429118040193619,\n",
       "  -0.0012341163472945754,\n",
       "  0.0023655321668399343,\n",
       "  0.0013058688279264236,\n",
       "  0.0022073573122411011,\n",
       "  -0.0011584894511857124,\n",
       "  -0.0016264084464030909,\n",
       "  0.0011885859492663797,\n",
       "  -0.00068352490143834543,\n",
       "  -0.0010896659467966585,\n",
       "  0.00037673020152539927,\n",
       "  -0.00049755665351336464,\n",
       "  0.00070674297143547005,\n",
       "  -8.7943186732608591e-06,\n",
       "  0.00036288466601941405,\n",
       "  0.0016084446272379843,\n",
       "  -0.0013306547979022587,\n",
       "  5.303308697097997e-05,\n",
       "  0.0004796934512905221,\n",
       "  0.00019062040773248912,\n",
       "  0.00065849165253661912,\n",
       "  -0.0017571565626348373,\n",
       "  -0.0014199311117483182,\n",
       "  0.00039729386015607826,\n",
       "  -0.0030029620974074273,\n",
       "  0.00085130251573516114,\n",
       "  0.0012161644657328052,\n",
       "  -0.0009726098825996593,\n",
       "  0.0016497134903672578,\n",
       "  0.0016635010432285713,\n",
       "  -0.0021909392232199731,\n",
       "  -0.0011514967631847117,\n",
       "  0.00033530785492488779,\n",
       "  -0.0014816186768965567,\n",
       "  -0.0028101068945393937,\n",
       "  -4.3239325619892632e-05,\n",
       "  -0.00010532765316523252,\n",
       "  0.00075519893496266144,\n",
       "  0.00025950360013815565,\n",
       "  0.0014637094296323372,\n",
       "  0.00089264982597196674,\n",
       "  7.343132452709844e-05,\n",
       "  0.00091329363708206324,\n",
       "  -0.0011858462693047911,\n",
       "  0.00030762701614431287,\n",
       "  -0.0018948376788509996,\n",
       "  0.0017734791508294268,\n",
       "  -7.774231521121e-05,\n",
       "  -0.0016332340079576457,\n",
       "  -0.00071089195178883346,\n",
       "  -0.0015232968292824556,\n",
       "  0.0018492748787566626,\n",
       "  -0.0012339406939886055,\n",
       "  0.00037659377177319542,\n",
       "  -0.00062179299662064313,\n",
       "  0.0017186205579795555,\n",
       "  -0.00070413801585418601,\n",
       "  0.00068600365949883502,\n",
       "  -0.0011792696920480128,\n",
       "  0.0014500207883413746,\n",
       "  8.7363834000125928e-05,\n",
       "  0.00039012722422100687,\n",
       "  0.0010651664793004528,\n",
       "  0.0017528830901325926,\n",
       "  -0.00020841027896353892,\n",
       "  0.0013812109269275424,\n",
       "  -0.0024660592928421321,\n",
       "  0.0011262622803984573,\n",
       "  0.00085832419505850466,\n",
       "  0.0014021054277073286,\n",
       "  -0.00071777549598807389,\n",
       "  -0.00035287602780857685,\n",
       "  0.00050041059339242522,\n",
       "  -0.00027749299988179266,\n",
       "  0.00066563782400885785,\n",
       "  0.00028679220338111155,\n",
       "  0.0009614119369725227,\n",
       "  0.00014249528635443265,\n",
       "  0.0011680342282390233,\n",
       "  0.0017598484921831636,\n",
       "  -0.00082110540071224369,\n",
       "  -0.00051155567249060174,\n",
       "  -0.00024316054748073357,\n",
       "  0.00070654344292286897,\n",
       "  0.00073447497137311968,\n",
       "  -0.0014129111377968739,\n",
       "  -0.0006765134543464113,\n",
       "  -0.00011214298248837795,\n",
       "  0.00065881396782620227,\n",
       "  -0.0018809460983036375,\n",
       "  0.00047983840790222221,\n",
       "  0.00037657501268226201,\n",
       "  0.0016085554764116716,\n",
       "  0.00056221412383003488,\n",
       "  0.0018011668110976126,\n",
       "  0.0011681058538589167,\n",
       "  0.0010854248763605551,\n",
       "  -0.00053212444723697849,\n",
       "  0.0009751295695858142,\n",
       "  -0.0012961842103770965,\n",
       "  0.00054863803708465886,\n",
       "  -0.0018053277290542846,\n",
       "  -0.00095880015990362777,\n",
       "  0.0016498635630947112,\n",
       "  -0.00062844290486921417,\n",
       "  -0.00080735366066089775,\n",
       "  0.0013260948229203706,\n",
       "  -0.00027744524946850257,\n",
       "  -0.00042209006236333668,\n",
       "  0.0013400102786743778,\n",
       "  0.00037641641309531237,\n",
       "  -0.0014476017182974837,\n",
       "  -0.0001260192146886191,\n",
       "  2.5342015958981778e-05,\n",
       "  0.0003213719347080618,\n",
       "  0.0002386739034906521,\n",
       "  0.00036944248418523118,\n",
       "  0.0012782715523690646,\n",
       "  0.0015946928871866523,\n",
       "  -7.7987888765188029e-05,\n",
       "  -0.00016726079186743514,\n",
       "  0.00016316467804307344,\n",
       "  -0.00058728318554171488,\n",
       "  -0.0018329812818844299,\n",
       "  -0.00097250244416981213,\n",
       "  -0.00027042015940134667,\n",
       "  -0.0015093302123713737,\n",
       "  -0.0011377177371829222,\n",
       "  -0.00013282601715224052,\n",
       "  -0.0019912209406155457,\n",
       "  0.00019755340771691887,\n",
       "  -0.00060788606772615994,\n",
       "  0.00089965786232008849,\n",
       "  0.0020972854091856064,\n",
       "  -0.0010070753540091237,\n",
       "  0.00052765656233783043,\n",
       "  -0.0027070140365096917,\n",
       "  0.0011196652386788741,\n",
       "  -5.0307049984613106e-05,\n",
       "  0.00059673246176847328,\n",
       "  -0.00093834223433091057,\n",
       "  5.289154110305061e-05,\n",
       "  0.0012090865091366476,\n",
       "  0.00084426889880849509,\n",
       "  0.0004522240786258569,\n",
       "  0.0013535573740974111,\n",
       "  -0.0028996390141708406,\n",
       "  0.00028698832114991413,\n",
       "  -0.00060100934501453041,\n",
       "  -0.00078660070574902707,\n",
       "  0.00098197730097508706,\n",
       "  0.00063819914803844857,\n",
       "  0.0010164802905664183,\n",
       "  -0.0017776809977117641,\n",
       "  -0.0016816626855343797,\n",
       "  -0.00082806739201901625,\n",
       "  -0.001234336340270023,\n",
       "  0.0023932675775213963,\n",
       "  0.0011334272109616433,\n",
       "  0.00073452442715830901,\n",
       "  0.0009822382228762,\n",
       "  -0.0018260192905776573,\n",
       "  -6.4130415655880291e-05,\n",
       "  -0.00053892613358488828,\n",
       "  0.0011610961121388957,\n",
       "  -1.5544843864095936e-05,\n",
       "  -0.001860732040912999,\n",
       "  0.00013571406446935552,\n",
       "  -0.00069025325679443472,\n",
       "  0.0010027353720026833,\n",
       "  -0.0010346879779136037,\n",
       "  -0.00049762998450517126,\n",
       "  -0.00033247437950865988,\n",
       "  -0.00066992664485822362,\n",
       "  -0.0014751648864167882,\n",
       "  0.0015601694331324883,\n",
       "  -9.1553743279154665e-05,\n",
       "  0.0017529598318682255,\n",
       "  -0.00011228793910010582,\n",
       "  0.00028046461042213755,\n",
       "  0.0011267073824650642,\n",
       "  0.00073438970277800442,\n",
       "  0.00059655851383440262,\n",
       "  0.0011474091762198463,\n",
       "  -0.00053894318730390856,\n",
       "  0.0031225600184252994,\n",
       "  0.00080346901295244577,\n",
       "  0.00041775690184450709,\n",
       "  -0.00051839487702035059,\n",
       "  -0.00020169897732646991,\n",
       "  0.00034897091563729221,\n",
       "  0.00053473792967777267,\n",
       "  0.00031468621364952321,\n",
       "  -0.00033940908486497501,\n",
       "  -3.6572363652287443e-05,\n",
       "  0.0017734859723170376,\n",
       "  0.00055520438211000001,\n",
       "  -0.00065582871431063561,\n",
       "  0.0013607069563134622,\n",
       "  -0.00035303633276742574,\n",
       "  -0.0021013422994562297,\n",
       "  0.00025270702990594363,\n",
       "  -0.00051132544728373086,\n",
       "  0.0024274397249636065,\n",
       "  -0.00075221197607518164,\n",
       "  0.001168192827825959,\n",
       "  -0.00064900485812799391,\n",
       "  0.001126651105192264,\n",
       "  0.0022415072898485794,\n",
       "  0.00098198071171889945,\n",
       "  0.0022622414856695305,\n",
       "  4.6050631201388637e-05,\n",
       "  0.00025941833154301264,\n",
       "  1.8279407709972939e-05,\n",
       "  0.0016019106842787983,\n",
       "  0.00030767306118567594,\n",
       "  0.00027302511498264459,\n",
       "  -0.0033608808151892183,\n",
       "  -0.00064912423416117748,\n",
       "  0.00047270246866140675,\n",
       "  0.00041104901095123658,\n",
       "  0.0021106841372531132,\n",
       "  0.00035588686190268781,\n",
       "  0.00012861393803846599,\n",
       "  -0.00068346521342174671,\n",
       "  -0.0013580013837899141,\n",
       "  -0.0028379088147250514,\n",
       "  -0.0010070122552487265,\n",
       "  -0.00016731195302452373,\n",
       "  0.001099145919717659,\n",
       "  -0.0025555828856140828,\n",
       "  -0.00086225147706452121,\n",
       "  -0.00055281089264463956,\n",
       "  0.0005347566887686922,\n",
       "  -0.00054581649927172571,\n",
       "  0.0013469944398158823,\n",
       "  -0.00082088199699301145,\n",
       "  0.0006864624045406359,\n",
       "  -0.00061478496027250751,\n",
       "  0.0010924090375020595,\n",
       "  0.00066553720706659381,\n",
       "  0.00065192019139556634,\n",
       "  0.00070695443755139364,\n",
       "  0.00026646218070110195,\n",
       "  0.0016427890172423659,\n",
       "  -0.0013718486246678124,\n",
       "  -0.00069711804190274174,\n",
       "  -0.0026310852895740505,\n",
       "  -3.6395004974418277e-05,\n",
       "  -0.001654145562456466,\n",
       "  0.00026647241293251134,\n",
       "  0.00080293352617502589,\n",
       "  8.7447397223355816e-05,\n",
       "  0.0016431556722014407,\n",
       "  0.0002109504304125126,\n",
       "  0.0010579248070016617,\n",
       "  -6.393600325897697e-05,\n",
       "  0.00063087732326023993,\n",
       "  0.00072077780322267471,\n",
       "  0.001140580203921493,\n",
       "  -0.00087610895017384283,\n",
       "  0.00050693942023591343,\n",
       "  -0.00020160518187181675,\n",
       "  -0.0021082787101844441,\n",
       "  0.00051397985865019036,\n",
       "  0.00085815536324015951,\n",
       "  -0.00012594758906869785,\n",
       "  -0.00092416415130390506,\n",
       "  -0.0021770135352345704,\n",
       "  7.3637674527324282e-05,\n",
       "  -0.00015366253528734108,\n",
       "  -0.00011932837751438274,\n",
       "  0.0012919584882881141,\n",
       "  0.00063812240630282957,\n",
       "  0.00184271194447512,\n",
       "  8.7213761272700308e-05,\n",
       "  -0.00016009245056046451,\n",
       "  -0.00010529866184288972,\n",
       "  -0.0003119840518697875,\n",
       "  -0.0020598739078143413,\n",
       "  -0.0013715894081386126,\n",
       "  0.0013952321157395114,\n",
       "  -0.00065570933827745204,\n",
       "  -0.0013373507511922067,\n",
       "  -0.0013509694722351612,\n",
       "  0.0011198306597534347,\n",
       "  -0.0015368166387550453,\n",
       "  0.0022760409761341527,\n",
       "  -0.00094487276654629804,\n",
       "  0.0012090353479795729,\n",
       "  -0.00053905403647758199,\n",
       "  -0.0020875257552725734,\n",
       "  -0.00063512009906822875,\n",
       "  8.0255180709754015e-05,\n",
       "  0.00068626458139992019,\n",
       "  0.00046599287239623699,\n",
       "  0.000596485182842596,\n",
       "  0.00032839190865950607,\n",
       "  -0.00093132055500756705,\n",
       "  5.9805781996546958e-05,\n",
       "  -0.00051142094811028327,\n",
       "  -0.00011215833083549898,\n",
       "  -0.00049071062749597716,\n",
       "  -0.00044242008504334629,\n",
       "  0.001099261885007044,\n",
       "  0.00019056583583160203,\n",
       "  0.00031451056034355329,\n",
       "  -0.00060806854251974074,\n",
       "  0.0019322031351809016,\n",
       "  0.0017599729843320588,\n",
       "  0.00077593142541169946,\n",
       "  -0.00075915861903480542,\n",
       "  -0.0015574979680470086,\n",
       "  -0.0015781008502314536,\n",
       "  -0.0004150615615523684,\n",
       "  0.00012212092400494534,\n",
       "  0.00011474793806964811,\n",
       "  ...],\n",
       " array([-0.00031176, -0.00170889, -0.00072477, ...,  0.00142265,\n",
       "         0.00192493,  0.00110594]))"
      ]
     },
     "execution_count": 31,
     "metadata": {},
     "output_type": "execute_result"
    }
   ],
   "source": [
    "p_diffs, p_diffs2"
   ]
  },
  {
   "cell_type": "markdown",
   "metadata": {},
   "source": [
    "i. Plot a histogram of the **p_diffs**.  Does this plot look like what you expected?  Use the matching problem in the classroom to assure you fully understand what was computed here."
   ]
  },
  {
   "cell_type": "code",
   "execution_count": 28,
   "metadata": {},
   "outputs": [
    {
     "data": {
      "image/png": "[encoded data removed]",
      "text/plain": [
       "<matplotlib.figure.Figure at 0x192d9d774e0>"
      ]
     },
     "metadata": {},
     "output_type": "display_data"
    }
   ],
   "source": [
    "p_diffs = np.array(p_diffs)\n",
    "plt.hist(p_diffs);\n",
    "plt.axvline(diff, color = 'red');"
   ]
  },
  {
   "cell_type": "markdown",
   "metadata": {},
   "source": [
    "j. What proportion of the **p_diffs** are greater than the actual difference observed in **ab_data.csv**?"
   ]
  },
  {
   "cell_type": "code",
   "execution_count": 29,
   "metadata": {},
   "outputs": [
    {
     "data": {
      "text/plain": [
       "0.90480000000000005"
      ]
     },
     "execution_count": 29,
     "metadata": {},
     "output_type": "execute_result"
    }
   ],
   "source": [
    "(p_diffs > obs_diff).mean()"
   ]
  },
  {
   "cell_type": "code",
   "execution_count": 30,
   "metadata": {},
   "outputs": [],
   "source": [
    "#calculated null_vals as well for comparison.  Found the output to be very similar to the previous plot.\n",
    "p_diffs=np.array(p_diffs)\n",
    "null_vals=np.random.normal(0, p_diffs.std(), p_diffs.size)"
   ]
  },
  {
   "cell_type": "code",
   "execution_count": 31,
   "metadata": {},
   "outputs": [
    {
     "data": {
      "image/png": "[encoded data removed]",
      "text/plain": [
       "<matplotlib.figure.Figure at 0x192df100550>"
      ]
     },
     "metadata": {},
     "output_type": "display_data"
    }
   ],
   "source": [
    "plt.hist(null_vals);"
   ]
  },
  {
   "cell_type": "code",
   "execution_count": 32,
   "metadata": {},
   "outputs": [
    {
     "data": {
      "image/png": "[encoded data removed]",
      "text/plain": [
       "<matplotlib.figure.Figure at 0x192df26f7f0>"
      ]
     },
     "metadata": {},
     "output_type": "display_data"
    }
   ],
   "source": [
    "plt.hist(null_vals);\n",
    "plt.axvline(x=diff, color='red');"
   ]
  },
  {
   "cell_type": "markdown",
   "metadata": {},
   "source": [
    "k. In words, explain what you just computed in part **j.**  What is this value called in scientific studies?  What does this value mean in terms of whether or not there is a difference between the new and old pages?"
   ]
  },
  {
   "cell_type": "markdown",
   "metadata": {},
   "source": [
    ">**Answer:** In question j, the p-Value was computed.  It represents the probability that you will find the observed results or more \"extreme\" results when analyzing the null hypothesis of the question.  P-Value is also known as calculated probability.  In our project, the p-Value is very high, suggesting that there is little evidence against the null hypothesis and indicates that we cannot reject the null hypothesis for this data set."
   ]
  },
  {
   "cell_type": "markdown",
   "metadata": {},
   "source": [
    "l. We could also use a built-in to achieve similar results.  Though using the built-in might be easier to code, the above portions are a walkthrough of the ideas that are critical to correctly thinking about statistical significance. Fill in the below to calculate the number of conversions for each page, as well as the number of individuals who received each page. Let `n_old` and `n_new` refer the the number of rows associated with the old page and new pages, respectively."
   ]
  },
  {
   "cell_type": "code",
   "execution_count": 33,
   "metadata": {},
   "outputs": [
    {
     "data": {
      "text/plain": [
       "(17489, 17264, 145274, 145310)"
      ]
     },
     "execution_count": 33,
     "metadata": {},
     "output_type": "execute_result"
    }
   ],
   "source": [
    "import statsmodels.api as sm\n",
    "\n",
    "convert_old = df2.query('group==\"control\"').converted.sum()\n",
    "convert_new = df2.query('group==\"treatment\"').converted.sum()\n",
    "n_old = df2.query('group==\"control\"').shape[0]\n",
    "n_new = df2.query('group==\"treatment\"').shape[0]\n",
    "convert_old, convert_new, n_old, n_new"
   ]
  },
  {
   "cell_type": "markdown",
   "metadata": {},
   "source": [
    "m. Now use `stats.proportions_ztest` to compute your test statistic and p-value.  [Here](http://knowledgetack.com/python/statsmodels/proportions_ztest/) is a helpful link on using the built in."
   ]
  },
  {
   "cell_type": "code",
   "execution_count": 34,
   "metadata": {},
   "outputs": [
    {
     "data": {
      "text/plain": [
       "(1.3109241984234394, 0.90505831275902449)"
      ]
     },
     "execution_count": 34,
     "metadata": {},
     "output_type": "execute_result"
    }
   ],
   "source": [
    "z_score, p_value = sm.stats.proportions_ztest([convert_old, convert_new],[n_old, n_new], alternative='smaller')\n",
    "(z_score, p_value)"
   ]
  },
  {
   "cell_type": "code",
   "execution_count": 35,
   "metadata": {},
   "outputs": [
    {
     "data": {
      "text/plain": [
       "0.90505831275902449"
      ]
     },
     "execution_count": 35,
     "metadata": {},
     "output_type": "execute_result"
    }
   ],
   "source": [
    "from scipy.stats import norm\n",
    "\n",
    "norm.cdf(z_score)"
   ]
  },
  {
   "cell_type": "code",
   "execution_count": 36,
   "metadata": {},
   "outputs": [
    {
     "data": {
      "text/plain": [
       "1.959963984540054"
      ]
     },
     "execution_count": 36,
     "metadata": {},
     "output_type": "execute_result"
    }
   ],
   "source": [
    "norm.ppf(1-(.05/2))"
   ]
  },
  {
   "cell_type": "markdown",
   "metadata": {},
   "source": [
    "n. What do the z-score and p-value you computed in the previous question mean for the conversion rates of the old and new pages?  Do they agree with the findings in parts **j.** and **k.**?"
   ]
  },
  {
   "cell_type": "markdown",
   "metadata": {},
   "source": [
    ">**Revised Answer:** Based on the results of the z-test, we cannot reject the null hypothesis.  The z-score is with the margin of error (-1.96 to 1.96) and the high p-value suggest strong evidence that we cannot reject the null hypothesis.  These results correspond to the earlier findings in questions j and k."
   ]
  },
  {
   "cell_type": "markdown",
   "metadata": {},
   "source": [
    "<a id='regression'></a>\n",
    "### Part III - A regression approach\n",
    "\n",
    "`1.` In this final part, you will see that the result you acheived in the previous A/B test can also be acheived by performing regression.<br><br>\n",
    "\n",
    "a. Since each row is either a conversion or no conversion, what type of regression should you be performing in this case?"
   ]
  },
  {
   "cell_type": "markdown",
   "metadata": {},
   "source": [
    ">** Revised Answer:** The appropriate regression for this use case is Logistic Regression. \"conversion or no conversion\" implies that we are working with categorical output therefore the use of the Logistic model"
   ]
  },
  {
   "cell_type": "markdown",
   "metadata": {},
   "source": [
    "b. The goal is to use **statsmodels** to fit the regression model you specified in part **a.** to see if there is a significant difference in conversion based on which page a customer receives.  However, you first need to create a column for the intercept, and create a dummy variable column for which page each user received.  Add an **intercept** column, as well as an **ab_page** column, which is 1 when an individual receives the **treatment** and 0 if **control**."
   ]
  },
  {
   "cell_type": "code",
   "execution_count": 37,
   "metadata": {},
   "outputs": [
    {
     "name": "stderr",
     "output_type": "stream",
     "text": [
      "C:\\Users\\cb1118\\AppData\\Local\\Continuum\\anaconda3\\lib\\site-packages\\ipykernel\\__main__.py:1: SettingWithCopyWarning: \n",
      "A value is trying to be set on a copy of a slice from a DataFrame.\n",
      "Try using .loc[row_indexer,col_indexer] = value instead\n",
      "\n",
      "See the caveats in the documentation: http://pandas.pydata.org/pandas-docs/stable/indexing.html#indexing-view-versus-copy\n",
      "  if __name__ == '__main__':\n"
     ]
    }
   ],
   "source": [
    "df2['intercept']=1"
   ]
  },
  {
   "cell_type": "code",
   "execution_count": 38,
   "metadata": {},
   "outputs": [
    {
     "name": "stderr",
     "output_type": "stream",
     "text": [
      "C:\\Users\\cb1118\\AppData\\Local\\Continuum\\anaconda3\\lib\\site-packages\\ipykernel\\__main__.py:2: SettingWithCopyWarning: \n",
      "A value is trying to be set on a copy of a slice from a DataFrame.\n",
      "Try using .loc[row_indexer,col_indexer] = value instead\n",
      "\n",
      "See the caveats in the documentation: http://pandas.pydata.org/pandas-docs/stable/indexing.html#indexing-view-versus-copy\n",
      "  from ipykernel import kernelapp as app\n",
      "C:\\Users\\cb1118\\AppData\\Local\\Continuum\\anaconda3\\lib\\site-packages\\pandas\\core\\generic.py:3924: SettingWithCopyWarning: \n",
      "A value is trying to be set on a copy of a slice from a DataFrame\n",
      "\n",
      "See the caveats in the documentation: http://pandas.pydata.org/pandas-docs/stable/indexing.html#indexing-view-versus-copy\n",
      "  self._update_inplace(new_data)\n"
     ]
    }
   ],
   "source": [
    "# A number of ways this can be done... lambda function, pd.get_dummies for example\n",
    "df2['ab_page']=df2.group\n",
    "df2.ab_page.replace(('treatment','control'), (1,0), inplace=True)"
   ]
  },
  {
   "cell_type": "code",
   "execution_count": 39,
   "metadata": {},
   "outputs": [
    {
     "data": {
      "text/html": [
       "<div>\n",
       "<style>\n",
       "    .dataframe thead tr:only-child th {\n",
       "        text-align: right;\n",
       "    }\n",
       "\n",
       "    .dataframe thead th {\n",
       "        text-align: left;\n",
       "    }\n",
       "\n",
       "    .dataframe tbody tr th {\n",
       "        vertical-align: top;\n",
       "    }\n",
       "</style>\n",
       "<table border=\"1\" class=\"dataframe\">\n",
       "  <thead>\n",
       "    <tr style=\"text-align: right;\">\n",
       "      <th></th>\n",
       "      <th>user_id</th>\n",
       "      <th>timestamp</th>\n",
       "      <th>group</th>\n",
       "      <th>landing_page</th>\n",
       "      <th>converted</th>\n",
       "      <th>intercept</th>\n",
       "      <th>ab_page</th>\n",
       "    </tr>\n",
       "  </thead>\n",
       "  <tbody>\n",
       "    <tr>\n",
       "      <th>0</th>\n",
       "      <td>851104</td>\n",
       "      <td>2017-01-21 22:11:48.556739</td>\n",
       "      <td>control</td>\n",
       "      <td>old_page</td>\n",
       "      <td>0</td>\n",
       "      <td>1</td>\n",
       "      <td>0</td>\n",
       "    </tr>\n",
       "    <tr>\n",
       "      <th>1</th>\n",
       "      <td>804228</td>\n",
       "      <td>2017-01-12 08:01:45.159739</td>\n",
       "      <td>control</td>\n",
       "      <td>old_page</td>\n",
       "      <td>0</td>\n",
       "      <td>1</td>\n",
       "      <td>0</td>\n",
       "    </tr>\n",
       "    <tr>\n",
       "      <th>2</th>\n",
       "      <td>661590</td>\n",
       "      <td>2017-01-11 16:55:06.154213</td>\n",
       "      <td>treatment</td>\n",
       "      <td>new_page</td>\n",
       "      <td>0</td>\n",
       "      <td>1</td>\n",
       "      <td>1</td>\n",
       "    </tr>\n",
       "    <tr>\n",
       "      <th>3</th>\n",
       "      <td>853541</td>\n",
       "      <td>2017-01-08 18:28:03.143765</td>\n",
       "      <td>treatment</td>\n",
       "      <td>new_page</td>\n",
       "      <td>0</td>\n",
       "      <td>1</td>\n",
       "      <td>1</td>\n",
       "    </tr>\n",
       "    <tr>\n",
       "      <th>4</th>\n",
       "      <td>864975</td>\n",
       "      <td>2017-01-21 01:52:26.210827</td>\n",
       "      <td>control</td>\n",
       "      <td>old_page</td>\n",
       "      <td>1</td>\n",
       "      <td>1</td>\n",
       "      <td>0</td>\n",
       "    </tr>\n",
       "  </tbody>\n",
       "</table>\n",
       "</div>"
      ],
      "text/plain": [
       "   user_id                   timestamp      group landing_page  converted  \\\n",
       "0   851104  2017-01-21 22:11:48.556739    control     old_page          0   \n",
       "1   804228  2017-01-12 08:01:45.159739    control     old_page          0   \n",
       "2   661590  2017-01-11 16:55:06.154213  treatment     new_page          0   \n",
       "3   853541  2017-01-08 18:28:03.143765  treatment     new_page          0   \n",
       "4   864975  2017-01-21 01:52:26.210827    control     old_page          1   \n",
       "\n",
       "   intercept  ab_page  \n",
       "0          1        0  \n",
       "1          1        0  \n",
       "2          1        1  \n",
       "3          1        1  \n",
       "4          1        0  "
      ]
     },
     "execution_count": 39,
     "metadata": {},
     "output_type": "execute_result"
    }
   ],
   "source": [
    "df2.head()"
   ]
  },
  {
   "cell_type": "markdown",
   "metadata": {},
   "source": [
    "c. Use **statsmodels** to import your regression model.  Instantiate the model, and fit the model using the two columns you created in part **b.** to predict whether or not an individual converts."
   ]
  },
  {
   "cell_type": "code",
   "execution_count": 40,
   "metadata": {},
   "outputs": [],
   "source": [
    "# Fit linear model and generate the results\n",
    "#lin = sm.OLS(df2['converted'], df2[['intercept','ab_page']])\n",
    "#result = lin.fit()"
   ]
  },
  {
   "cell_type": "code",
   "execution_count": 41,
   "metadata": {},
   "outputs": [
    {
     "name": "stdout",
     "output_type": "stream",
     "text": [
      "Optimization terminated successfully.\n",
      "         Current function value: 0.366118\n",
      "         Iterations 6\n"
     ]
    }
   ],
   "source": [
    "# Fit linear model and generate the results\n",
    "lin = sm.Logit(df2['converted'], df2[['intercept','ab_page']])\n",
    "result = lin.fit()"
   ]
  },
  {
   "cell_type": "markdown",
   "metadata": {},
   "source": [
    "d. Provide the summary of your model below, and use it as necessary to answer the following questions."
   ]
  },
  {
   "cell_type": "code",
   "execution_count": 42,
   "metadata": {},
   "outputs": [
    {
     "name": "stdout",
     "output_type": "stream",
     "text": [
      "                           Logit Regression Results                           \n",
      "==============================================================================\n",
      "Dep. Variable:              converted   No. Observations:               290584\n",
      "Model:                          Logit   Df Residuals:                   290582\n",
      "Method:                           MLE   Df Model:                            1\n",
      "Date:                Tue, 26 Jun 2018   Pseudo R-squ.:               8.077e-06\n",
      "Time:                        13:56:10   Log-Likelihood:            -1.0639e+05\n",
      "converged:                       True   LL-Null:                   -1.0639e+05\n",
      "                                        LLR p-value:                    0.1899\n",
      "==============================================================================\n",
      "                 coef    std err          z      P>|z|      [0.025      0.975]\n",
      "------------------------------------------------------------------------------\n",
      "intercept     -1.9888      0.008   -246.669      0.000      -2.005      -1.973\n",
      "ab_page       -0.0150      0.011     -1.311      0.190      -0.037       0.007\n",
      "==============================================================================\n"
     ]
    }
   ],
   "source": [
    "print(result.summary())"
   ]
  },
  {
   "cell_type": "code",
   "execution_count": 43,
   "metadata": {},
   "outputs": [
    {
     "data": {
      "text/plain": [
       "0.98511193960306265"
      ]
     },
     "execution_count": 43,
     "metadata": {},
     "output_type": "execute_result"
    }
   ],
   "source": [
    "#exponentiate the coefficient of ab_page\n",
    "np.exp(-0.0150)"
   ]
  },
  {
   "cell_type": "code",
   "execution_count": 44,
   "metadata": {},
   "outputs": [
    {
     "data": {
      "text/plain": [
       "1.0151130646157189"
      ]
     },
     "execution_count": 44,
     "metadata": {},
     "output_type": "execute_result"
    }
   ],
   "source": [
    "#calculate the recipricol\n",
    "1/np.exp(-0.0150)"
   ]
  },
  {
   "cell_type": "markdown",
   "metadata": {},
   "source": [
    "e. What is the p-value associated with **ab_page**? Why does it differ from the value you found in **Part II**?<br><br>  **Hint**: What are the null and alternative hypotheses associated with your regression model, and how do they compare to the null and alternative hypotheses in the **Part II**?"
   ]
  },
  {
   "cell_type": "markdown",
   "metadata": {},
   "source": [
    "> **Answer:** The p-Value for ab_page is .190. The difference is accounted for by what each test uses as its null hypothesis.  In Part II, the null hypothesis test is P-old >= P-new.  Whereas, in the logistic regression the null hypothesis is focused on wether or not there is any change at all, i.e. P-old = P-new (alternative would be P-old <> P-new).  Like previous tests, we cannot reject the null hypothesis based on the results of the test."
   ]
  },
  {
   "cell_type": "markdown",
   "metadata": {},
   "source": [
    "f. Now, you are considering other things that might influence whether or not an individual converts.  Discuss why it is a good idea to consider other factors to add into your regression model.  Are there any disadvantages to adding additional terms into your regression model?"
   ]
  },
  {
   "cell_type": "markdown",
   "metadata": {},
   "source": [
    ">**Answer:** Additional factors may be able to help create a more accurate model to analyze your results.  In our sample, factors such as geography, user age or education level might prove very helpful in analyzing results.  While more data can be helpful, it can also be a disadvantage for a number of reasons:  A linear relationship may not exist between factors, the existence of outliers, correlated errors and other problems could cause innaccuracy in the model."
   ]
  },
  {
   "cell_type": "markdown",
   "metadata": {},
   "source": [
    "g. Now along with testing if the conversion rate changes for different pages, also add an effect based on which country a user lives. You will need to read in the **countries.csv** dataset and merge together your datasets on the approporiate rows.  [Here](https://pandas.pydata.org/pandas-docs/stable/generated/pandas.DataFrame.join.html) are the docs for joining tables. \n",
    "\n",
    "Does it appear that country had an impact on conversion?  Don't forget to create dummy variables for these country columns - **Hint: You will need two columns for the three dummy variables.** Provide the statistical output as well as a written response to answer this question."
   ]
  },
  {
   "cell_type": "code",
   "execution_count": 45,
   "metadata": {},
   "outputs": [
    {
     "data": {
      "text/html": [
       "<div>\n",
       "<style>\n",
       "    .dataframe thead tr:only-child th {\n",
       "        text-align: right;\n",
       "    }\n",
       "\n",
       "    .dataframe thead th {\n",
       "        text-align: left;\n",
       "    }\n",
       "\n",
       "    .dataframe tbody tr th {\n",
       "        vertical-align: top;\n",
       "    }\n",
       "</style>\n",
       "<table border=\"1\" class=\"dataframe\">\n",
       "  <thead>\n",
       "    <tr style=\"text-align: right;\">\n",
       "      <th></th>\n",
       "      <th>country</th>\n",
       "      <th>timestamp</th>\n",
       "      <th>group</th>\n",
       "      <th>landing_page</th>\n",
       "      <th>converted</th>\n",
       "      <th>intercept</th>\n",
       "      <th>ab_page</th>\n",
       "    </tr>\n",
       "    <tr>\n",
       "      <th>user_id</th>\n",
       "      <th></th>\n",
       "      <th></th>\n",
       "      <th></th>\n",
       "      <th></th>\n",
       "      <th></th>\n",
       "      <th></th>\n",
       "      <th></th>\n",
       "    </tr>\n",
       "  </thead>\n",
       "  <tbody>\n",
       "    <tr>\n",
       "      <th>834778</th>\n",
       "      <td>UK</td>\n",
       "      <td>2017-01-14 23:08:43.304998</td>\n",
       "      <td>control</td>\n",
       "      <td>old_page</td>\n",
       "      <td>0</td>\n",
       "      <td>1</td>\n",
       "      <td>0</td>\n",
       "    </tr>\n",
       "    <tr>\n",
       "      <th>928468</th>\n",
       "      <td>US</td>\n",
       "      <td>2017-01-23 14:44:16.387854</td>\n",
       "      <td>treatment</td>\n",
       "      <td>new_page</td>\n",
       "      <td>0</td>\n",
       "      <td>1</td>\n",
       "      <td>1</td>\n",
       "    </tr>\n",
       "    <tr>\n",
       "      <th>822059</th>\n",
       "      <td>UK</td>\n",
       "      <td>2017-01-16 14:04:14.719771</td>\n",
       "      <td>treatment</td>\n",
       "      <td>new_page</td>\n",
       "      <td>1</td>\n",
       "      <td>1</td>\n",
       "      <td>1</td>\n",
       "    </tr>\n",
       "    <tr>\n",
       "      <th>711597</th>\n",
       "      <td>UK</td>\n",
       "      <td>2017-01-22 03:14:24.763511</td>\n",
       "      <td>control</td>\n",
       "      <td>old_page</td>\n",
       "      <td>0</td>\n",
       "      <td>1</td>\n",
       "      <td>0</td>\n",
       "    </tr>\n",
       "    <tr>\n",
       "      <th>710616</th>\n",
       "      <td>UK</td>\n",
       "      <td>2017-01-16 13:14:44.000513</td>\n",
       "      <td>treatment</td>\n",
       "      <td>new_page</td>\n",
       "      <td>0</td>\n",
       "      <td>1</td>\n",
       "      <td>1</td>\n",
       "    </tr>\n",
       "  </tbody>\n",
       "</table>\n",
       "</div>"
      ],
      "text/plain": [
       "        country                   timestamp      group landing_page  \\\n",
       "user_id                                                               \n",
       "834778       UK  2017-01-14 23:08:43.304998    control     old_page   \n",
       "928468       US  2017-01-23 14:44:16.387854  treatment     new_page   \n",
       "822059       UK  2017-01-16 14:04:14.719771  treatment     new_page   \n",
       "711597       UK  2017-01-22 03:14:24.763511    control     old_page   \n",
       "710616       UK  2017-01-16 13:14:44.000513  treatment     new_page   \n",
       "\n",
       "         converted  intercept  ab_page  \n",
       "user_id                                 \n",
       "834778           0          1        0  \n",
       "928468           0          1        1  \n",
       "822059           1          1        1  \n",
       "711597           0          1        0  \n",
       "710616           0          1        1  "
      ]
     },
     "execution_count": 45,
     "metadata": {},
     "output_type": "execute_result"
    }
   ],
   "source": [
    "#import country data and join to existing dataframe\n",
    "countries_df = pd.read_csv('./countries.csv')\n",
    "df_new = countries_df.set_index('user_id').join(df2.set_index('user_id'), how='inner')\n",
    "df_new.head()"
   ]
  },
  {
   "cell_type": "code",
   "execution_count": 46,
   "metadata": {},
   "outputs": [
    {
     "data": {
      "text/html": [
       "<div>\n",
       "<style>\n",
       "    .dataframe thead tr:only-child th {\n",
       "        text-align: right;\n",
       "    }\n",
       "\n",
       "    .dataframe thead th {\n",
       "        text-align: left;\n",
       "    }\n",
       "\n",
       "    .dataframe tbody tr th {\n",
       "        vertical-align: top;\n",
       "    }\n",
       "</style>\n",
       "<table border=\"1\" class=\"dataframe\">\n",
       "  <thead>\n",
       "    <tr style=\"text-align: right;\">\n",
       "      <th></th>\n",
       "      <th>timestamp</th>\n",
       "      <th>group</th>\n",
       "      <th>landing_page</th>\n",
       "      <th>converted</th>\n",
       "      <th>intercept</th>\n",
       "      <th>ab_page</th>\n",
       "    </tr>\n",
       "    <tr>\n",
       "      <th>country</th>\n",
       "      <th></th>\n",
       "      <th></th>\n",
       "      <th></th>\n",
       "      <th></th>\n",
       "      <th></th>\n",
       "      <th></th>\n",
       "    </tr>\n",
       "  </thead>\n",
       "  <tbody>\n",
       "    <tr>\n",
       "      <th>CA</th>\n",
       "      <td>14499</td>\n",
       "      <td>14499</td>\n",
       "      <td>14499</td>\n",
       "      <td>14499</td>\n",
       "      <td>14499</td>\n",
       "      <td>14499</td>\n",
       "    </tr>\n",
       "    <tr>\n",
       "      <th>UK</th>\n",
       "      <td>72466</td>\n",
       "      <td>72466</td>\n",
       "      <td>72466</td>\n",
       "      <td>72466</td>\n",
       "      <td>72466</td>\n",
       "      <td>72466</td>\n",
       "    </tr>\n",
       "    <tr>\n",
       "      <th>US</th>\n",
       "      <td>203619</td>\n",
       "      <td>203619</td>\n",
       "      <td>203619</td>\n",
       "      <td>203619</td>\n",
       "      <td>203619</td>\n",
       "      <td>203619</td>\n",
       "    </tr>\n",
       "  </tbody>\n",
       "</table>\n",
       "</div>"
      ],
      "text/plain": [
       "         timestamp   group  landing_page  converted  intercept  ab_page\n",
       "country                                                                \n",
       "CA           14499   14499         14499      14499      14499    14499\n",
       "UK           72466   72466         72466      72466      72466    72466\n",
       "US          203619  203619        203619     203619     203619   203619"
      ]
     },
     "execution_count": 46,
     "metadata": {},
     "output_type": "execute_result"
    }
   ],
   "source": [
    "df_new.groupby('country').count()"
   ]
  },
  {
   "cell_type": "code",
   "execution_count": 47,
   "metadata": {},
   "outputs": [
    {
     "data": {
      "text/html": [
       "<div>\n",
       "<style>\n",
       "    .dataframe thead tr:only-child th {\n",
       "        text-align: right;\n",
       "    }\n",
       "\n",
       "    .dataframe thead th {\n",
       "        text-align: left;\n",
       "    }\n",
       "\n",
       "    .dataframe tbody tr th {\n",
       "        vertical-align: top;\n",
       "    }\n",
       "</style>\n",
       "<table border=\"1\" class=\"dataframe\">\n",
       "  <thead>\n",
       "    <tr style=\"text-align: right;\">\n",
       "      <th></th>\n",
       "      <th>country</th>\n",
       "      <th>timestamp</th>\n",
       "      <th>group</th>\n",
       "      <th>landing_page</th>\n",
       "      <th>converted</th>\n",
       "      <th>intercept</th>\n",
       "      <th>ab_page</th>\n",
       "      <th>CA</th>\n",
       "      <th>UK</th>\n",
       "      <th>US</th>\n",
       "    </tr>\n",
       "    <tr>\n",
       "      <th>user_id</th>\n",
       "      <th></th>\n",
       "      <th></th>\n",
       "      <th></th>\n",
       "      <th></th>\n",
       "      <th></th>\n",
       "      <th></th>\n",
       "      <th></th>\n",
       "      <th></th>\n",
       "      <th></th>\n",
       "      <th></th>\n",
       "    </tr>\n",
       "  </thead>\n",
       "  <tbody>\n",
       "    <tr>\n",
       "      <th>834778</th>\n",
       "      <td>UK</td>\n",
       "      <td>2017-01-14 23:08:43.304998</td>\n",
       "      <td>control</td>\n",
       "      <td>old_page</td>\n",
       "      <td>0</td>\n",
       "      <td>1</td>\n",
       "      <td>0</td>\n",
       "      <td>0</td>\n",
       "      <td>1</td>\n",
       "      <td>0</td>\n",
       "    </tr>\n",
       "    <tr>\n",
       "      <th>928468</th>\n",
       "      <td>US</td>\n",
       "      <td>2017-01-23 14:44:16.387854</td>\n",
       "      <td>treatment</td>\n",
       "      <td>new_page</td>\n",
       "      <td>0</td>\n",
       "      <td>1</td>\n",
       "      <td>1</td>\n",
       "      <td>0</td>\n",
       "      <td>0</td>\n",
       "      <td>1</td>\n",
       "    </tr>\n",
       "    <tr>\n",
       "      <th>822059</th>\n",
       "      <td>UK</td>\n",
       "      <td>2017-01-16 14:04:14.719771</td>\n",
       "      <td>treatment</td>\n",
       "      <td>new_page</td>\n",
       "      <td>1</td>\n",
       "      <td>1</td>\n",
       "      <td>1</td>\n",
       "      <td>0</td>\n",
       "      <td>1</td>\n",
       "      <td>0</td>\n",
       "    </tr>\n",
       "    <tr>\n",
       "      <th>711597</th>\n",
       "      <td>UK</td>\n",
       "      <td>2017-01-22 03:14:24.763511</td>\n",
       "      <td>control</td>\n",
       "      <td>old_page</td>\n",
       "      <td>0</td>\n",
       "      <td>1</td>\n",
       "      <td>0</td>\n",
       "      <td>0</td>\n",
       "      <td>1</td>\n",
       "      <td>0</td>\n",
       "    </tr>\n",
       "    <tr>\n",
       "      <th>710616</th>\n",
       "      <td>UK</td>\n",
       "      <td>2017-01-16 13:14:44.000513</td>\n",
       "      <td>treatment</td>\n",
       "      <td>new_page</td>\n",
       "      <td>0</td>\n",
       "      <td>1</td>\n",
       "      <td>1</td>\n",
       "      <td>0</td>\n",
       "      <td>1</td>\n",
       "      <td>0</td>\n",
       "    </tr>\n",
       "  </tbody>\n",
       "</table>\n",
       "</div>"
      ],
      "text/plain": [
       "        country                   timestamp      group landing_page  \\\n",
       "user_id                                                               \n",
       "834778       UK  2017-01-14 23:08:43.304998    control     old_page   \n",
       "928468       US  2017-01-23 14:44:16.387854  treatment     new_page   \n",
       "822059       UK  2017-01-16 14:04:14.719771  treatment     new_page   \n",
       "711597       UK  2017-01-22 03:14:24.763511    control     old_page   \n",
       "710616       UK  2017-01-16 13:14:44.000513  treatment     new_page   \n",
       "\n",
       "         converted  intercept  ab_page  CA  UK  US  \n",
       "user_id                                             \n",
       "834778           0          1        0   0   1   0  \n",
       "928468           0          1        1   0   0   1  \n",
       "822059           1          1        1   0   1   0  \n",
       "711597           0          1        0   0   1   0  \n",
       "710616           0          1        1   0   1   0  "
      ]
     },
     "execution_count": 47,
     "metadata": {},
     "output_type": "execute_result"
    }
   ],
   "source": [
    "### Create the necessary dummy variables\n",
    "df_new[['CA','UK','US']]= pd.get_dummies(df_new['country'])\n",
    "#df_new['country_uk']=df_new['country'].apply(lambda x: 1if x =='UK' else 0)\n",
    "df_new.head()"
   ]
  },
  {
   "cell_type": "code",
   "execution_count": 48,
   "metadata": {},
   "outputs": [
    {
     "data": {
      "text/plain": [
       "country  group    \n",
       "CA       control      0.118783\n",
       "         treatment    0.111902\n",
       "UK       control      0.120022\n",
       "         treatment    0.121171\n",
       "US       control      0.120630\n",
       "         treatment    0.118466\n",
       "Name: converted, dtype: float64"
      ]
     },
     "execution_count": 48,
     "metadata": {},
     "output_type": "execute_result"
    }
   ],
   "source": [
    "# calculate means by country and group for comparison\n",
    "df_new.groupby(['country','group']).converted.mean()"
   ]
  },
  {
   "cell_type": "markdown",
   "metadata": {},
   "source": [
    "h. Though you have now looked at the individual factors of country and page on conversion, we would now like to look at an interaction between page and country to see if there significant effects on conversion.  Create the necessary additional columns, and fit the new model.  \n",
    "\n",
    "Provide the summary results, and your conclusions based on the results."
   ]
  },
  {
   "cell_type": "code",
   "execution_count": 49,
   "metadata": {},
   "outputs": [
    {
     "data": {
      "text/html": [
       "<div>\n",
       "<style>\n",
       "    .dataframe thead tr:only-child th {\n",
       "        text-align: right;\n",
       "    }\n",
       "\n",
       "    .dataframe thead th {\n",
       "        text-align: left;\n",
       "    }\n",
       "\n",
       "    .dataframe tbody tr th {\n",
       "        vertical-align: top;\n",
       "    }\n",
       "</style>\n",
       "<table border=\"1\" class=\"dataframe\">\n",
       "  <thead>\n",
       "    <tr style=\"text-align: right;\">\n",
       "      <th></th>\n",
       "      <th>country</th>\n",
       "      <th>timestamp</th>\n",
       "      <th>group</th>\n",
       "      <th>landing_page</th>\n",
       "      <th>converted</th>\n",
       "      <th>intercept</th>\n",
       "      <th>ab_page</th>\n",
       "      <th>CA</th>\n",
       "      <th>UK</th>\n",
       "      <th>US</th>\n",
       "      <th>US_x_ab_page</th>\n",
       "      <th>UK_x_ab_page</th>\n",
       "    </tr>\n",
       "    <tr>\n",
       "      <th>user_id</th>\n",
       "      <th></th>\n",
       "      <th></th>\n",
       "      <th></th>\n",
       "      <th></th>\n",
       "      <th></th>\n",
       "      <th></th>\n",
       "      <th></th>\n",
       "      <th></th>\n",
       "      <th></th>\n",
       "      <th></th>\n",
       "      <th></th>\n",
       "      <th></th>\n",
       "    </tr>\n",
       "  </thead>\n",
       "  <tbody>\n",
       "    <tr>\n",
       "      <th>834778</th>\n",
       "      <td>UK</td>\n",
       "      <td>2017-01-14 23:08:43.304998</td>\n",
       "      <td>control</td>\n",
       "      <td>old_page</td>\n",
       "      <td>0</td>\n",
       "      <td>1</td>\n",
       "      <td>0</td>\n",
       "      <td>0</td>\n",
       "      <td>1</td>\n",
       "      <td>0</td>\n",
       "      <td>0</td>\n",
       "      <td>0</td>\n",
       "    </tr>\n",
       "    <tr>\n",
       "      <th>928468</th>\n",
       "      <td>US</td>\n",
       "      <td>2017-01-23 14:44:16.387854</td>\n",
       "      <td>treatment</td>\n",
       "      <td>new_page</td>\n",
       "      <td>0</td>\n",
       "      <td>1</td>\n",
       "      <td>1</td>\n",
       "      <td>0</td>\n",
       "      <td>0</td>\n",
       "      <td>1</td>\n",
       "      <td>1</td>\n",
       "      <td>0</td>\n",
       "    </tr>\n",
       "    <tr>\n",
       "      <th>822059</th>\n",
       "      <td>UK</td>\n",
       "      <td>2017-01-16 14:04:14.719771</td>\n",
       "      <td>treatment</td>\n",
       "      <td>new_page</td>\n",
       "      <td>1</td>\n",
       "      <td>1</td>\n",
       "      <td>1</td>\n",
       "      <td>0</td>\n",
       "      <td>1</td>\n",
       "      <td>0</td>\n",
       "      <td>0</td>\n",
       "      <td>1</td>\n",
       "    </tr>\n",
       "    <tr>\n",
       "      <th>711597</th>\n",
       "      <td>UK</td>\n",
       "      <td>2017-01-22 03:14:24.763511</td>\n",
       "      <td>control</td>\n",
       "      <td>old_page</td>\n",
       "      <td>0</td>\n",
       "      <td>1</td>\n",
       "      <td>0</td>\n",
       "      <td>0</td>\n",
       "      <td>1</td>\n",
       "      <td>0</td>\n",
       "      <td>0</td>\n",
       "      <td>0</td>\n",
       "    </tr>\n",
       "    <tr>\n",
       "      <th>710616</th>\n",
       "      <td>UK</td>\n",
       "      <td>2017-01-16 13:14:44.000513</td>\n",
       "      <td>treatment</td>\n",
       "      <td>new_page</td>\n",
       "      <td>0</td>\n",
       "      <td>1</td>\n",
       "      <td>1</td>\n",
       "      <td>0</td>\n",
       "      <td>1</td>\n",
       "      <td>0</td>\n",
       "      <td>0</td>\n",
       "      <td>1</td>\n",
       "    </tr>\n",
       "  </tbody>\n",
       "</table>\n",
       "</div>"
      ],
      "text/plain": [
       "        country                   timestamp      group landing_page  \\\n",
       "user_id                                                               \n",
       "834778       UK  2017-01-14 23:08:43.304998    control     old_page   \n",
       "928468       US  2017-01-23 14:44:16.387854  treatment     new_page   \n",
       "822059       UK  2017-01-16 14:04:14.719771  treatment     new_page   \n",
       "711597       UK  2017-01-22 03:14:24.763511    control     old_page   \n",
       "710616       UK  2017-01-16 13:14:44.000513  treatment     new_page   \n",
       "\n",
       "         converted  intercept  ab_page  CA  UK  US  US_x_ab_page  UK_x_ab_page  \n",
       "user_id                                                                         \n",
       "834778           0          1        0   0   1   0             0             0  \n",
       "928468           0          1        1   0   0   1             1             0  \n",
       "822059           1          1        1   0   1   0             0             1  \n",
       "711597           0          1        0   0   1   0             0             0  \n",
       "710616           0          1        1   0   1   0             0             1  "
      ]
     },
     "execution_count": 49,
     "metadata": {},
     "output_type": "execute_result"
    }
   ],
   "source": [
    "### Fit Your Linear Model And Obtain the Results\n",
    "df_new['US_x_ab_page'] = df_new['US'] * df_new['ab_page']\n",
    "df_new['UK_x_ab_page'] = df_new['UK'] * df_new['ab_page']\n",
    "df_new.head()\n",
    "\n"
   ]
  },
  {
   "cell_type": "code",
   "execution_count": 50,
   "metadata": {},
   "outputs": [
    {
     "name": "stdout",
     "output_type": "stream",
     "text": [
      "Optimization terminated successfully.\n",
      "         Current function value: 0.366109\n",
      "         Iterations 6\n"
     ]
    }
   ],
   "source": [
    "logit = sm.Logit(df_new['converted'], df_new[['intercept','ab_page','US','UK','US_x_ab_page','UK_x_ab_page']])\n",
    "result2 = logit.fit()"
   ]
  },
  {
   "cell_type": "code",
   "execution_count": 51,
   "metadata": {},
   "outputs": [
    {
     "name": "stdout",
     "output_type": "stream",
     "text": [
      "                           Logit Regression Results                           \n",
      "==============================================================================\n",
      "Dep. Variable:              converted   No. Observations:               290584\n",
      "Model:                          Logit   Df Residuals:                   290578\n",
      "Method:                           MLE   Df Model:                            5\n",
      "Date:                Tue, 26 Jun 2018   Pseudo R-squ.:               3.482e-05\n",
      "Time:                        13:56:12   Log-Likelihood:            -1.0639e+05\n",
      "converged:                       True   LL-Null:                   -1.0639e+05\n",
      "                                        LLR p-value:                    0.1920\n",
      "================================================================================\n",
      "                   coef    std err          z      P>|z|      [0.025      0.975]\n",
      "--------------------------------------------------------------------------------\n",
      "intercept       -2.0040      0.036    -55.008      0.000      -2.075      -1.933\n",
      "ab_page         -0.0674      0.052     -1.297      0.195      -0.169       0.034\n",
      "US               0.0175      0.038      0.465      0.642      -0.056       0.091\n",
      "UK               0.0118      0.040      0.296      0.767      -0.066       0.090\n",
      "US_x_ab_page     0.0469      0.054      0.872      0.383      -0.059       0.152\n",
      "UK_x_ab_page     0.0783      0.057      1.378      0.168      -0.033       0.190\n",
      "================================================================================\n"
     ]
    }
   ],
   "source": [
    "print(result2.summary())"
   ]
  },
  {
   "cell_type": "code",
   "execution_count": 52,
   "metadata": {},
   "outputs": [
    {
     "data": {
      "text/plain": [
       "(0.93482119806188357,\n",
       " 1.0176540221507617,\n",
       " 1.011869894648401,\n",
       " 1.0480172021191829,\n",
       " 1.0814470441230692)"
      ]
     },
     "execution_count": 52,
     "metadata": {},
     "output_type": "execute_result"
    }
   ],
   "source": [
    "#exponentiate the coefficient of the variables\n",
    "np.exp(-0.0674), np.exp(0.0175), np.exp(0.0118), np.exp(0.0469), np.exp(0.0783)"
   ]
  },
  {
   "cell_type": "code",
   "execution_count": null,
   "metadata": {},
   "outputs": [],
   "source": []
  },
  {
   "cell_type": "markdown",
   "metadata": {},
   "source": [
    ">**Conclusions:** Not unlike the previous logistic regression, this analysis indicates that we cannot reject the null hypothesis.  The p-values indicate there is a relationship between the variables which tells us null hypothesis cannot be rejected.  The exponentiated coefficients of the new columns indicate that there is a 4.8% higher chance of a US based User converting vs a Canadian user (assuming all else remains fixed).  UK users are 8.1% more likely to convert under the same scenario.  \n",
    "\n",
    ">In summary, all of the tests performed indicate that we cannot reject the null hypothesis and it would be better to continue to use the old page.\n",
    "\n",
    ">Note: Due to the deadline I was given to have Term 1 completed by midnight on June 26, I ran out of time to do another MLR which I felt would be interesting.   Generating day of week information and then generating dummy variables would be a interesting analysis to see if regular human behavioral patterns during the week play a role in the conversion process."
   ]
  },
  {
   "cell_type": "markdown",
   "metadata": {},
   "source": [
    "Chris Bartsch<br>\n",
    "Analyze A/B Test Results<br>\n",
    "Udacity Data Analyst Nano Degree Program<br>\n",
    "June 25, 2018"
   ]
  },
  {
   "cell_type": "markdown",
   "metadata": {},
   "source": [
    "<a id='conclusions'></a>\n",
    "## Conclusions\n",
    "\n",
    "Congratulations on completing the project! \n",
    "\n",
    "### Gather Submission Materials\n",
    "\n",
    "Once you are satisfied with the status of your Notebook, you should save it in a format that will make it easy for others to read. You can use the __File -> Download as -> HTML (.html)__ menu to save your notebook as an .html file. If you are working locally and get an error about \"No module name\", then open a terminal and try installing the missing module using `pip install <module_name>` (don't include the \"<\" or \">\" or any words following a period in the module name).\n",
    "\n",
    "You will submit both your original Notebook and an HTML or PDF copy of the Notebook for review. There is no need for you to include any data files with your submission. If you made reference to other websites, books, and other resources to help you in solving tasks in the project, make sure that you document them. It is recommended that you either add a \"Resources\" section in a Markdown cell at the end of the Notebook report, or you can include a `readme.txt` file documenting your sources.\n",
    "\n",
    "### Submit the Project\n",
    "\n",
    "When you're ready, click on the \"Submit Project\" button to go to the project submission page. You can submit your files as a .zip archive or you can link to a GitHub repository containing your project files. If you go with GitHub, note that your submission will be a snapshot of the linked repository at time of submission. It is recommended that you keep each project in a separate repository to avoid any potential confusion: if a reviewer gets multiple folders representing multiple projects, there might be confusion regarding what project is to be evaluated.\n",
    "\n",
    "It can take us up to a week to grade the project, but in most cases it is much faster. You will get an email once your submission has been reviewed. If you are having any problems submitting your project or wish to check on the status of your submission, please email us at dataanalyst-project@udacity.com. In the meantime, you should feel free to continue on with your learning journey by beginning the next module in the program."
   ]
  },
  {
   "cell_type": "code",
   "execution_count": null,
   "metadata": {},
   "outputs": [],
   "source": []
  }
 ],
 "metadata": {
  "kernelspec": {
   "display_name": "Python [default]",
   "language": "python",
   "name": "python3"
  },
  "language_info": {
   "codemirror_mode": {
    "name": "ipython",
    "version": 3
   },
   "file_extension": ".py",
   "mimetype": "text/x-python",
   "name": "python",
   "nbconvert_exporter": "python",
   "pygments_lexer": "ipython3",
   "version": "3.6.5"
  }
 },
 "nbformat": 4,
 "nbformat_minor": 2
}
