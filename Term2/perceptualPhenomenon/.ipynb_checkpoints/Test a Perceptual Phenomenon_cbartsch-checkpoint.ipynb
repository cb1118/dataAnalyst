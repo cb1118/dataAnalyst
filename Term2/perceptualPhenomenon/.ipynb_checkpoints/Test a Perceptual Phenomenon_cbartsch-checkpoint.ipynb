{
 "cells": [
  {
   "cell_type": "markdown",
   "metadata": {},
   "source": [
    "### Test a Perceptual Phenomenon\n",
    "**Chris Bartsch**<br>\n",
    "Udacity Data Analyst Nano Degree Program<br>\n",
    "July 1, 2018<br>\n",
    "Updated: July 2, 2018<br><br>\n",
    "\n",
    ">**Notice regarding information sources:** Unless otherwise noted, the Udacity courses are the source of information for completing this notebook.  If other sourced are used, they will be noted throughout the notebook.\n",
    "\n",
    ">All student answers are in <font color=\"blue\">blue</font> font for readability.  "
   ]
  },
  {
   "cell_type": "markdown",
   "metadata": {},
   "source": [
    "### Analyzing the Stroop Effect\n",
    "Perform the analysis in the space below. Remember to follow [the instructions](https://docs.google.com/document/d/1-OkpZLjG_kX9J6LIQ5IltsqMzVWjh36QpnP2RYpVdPU/pub?embedded=True) and review the [project rubric](https://review.udacity.com/#!/rubrics/71/view) before submitting. Once you've completed the analysis and write-up, download this file as a PDF or HTML file, upload that PDF/HTML into the workspace here (click on the orange Jupyter icon in the upper left then Upload), then use the Submit Project button at the bottom of this page. This will create a zip file containing both this .ipynb doc and the PDF/HTML doc that will be submitted for your project.\n",
    "\n",
    "\n",
    "(1) What is the independent variable? What is the dependent variable?"
   ]
  },
  {
   "cell_type": "markdown",
   "metadata": {},
   "source": [
    "<font color=\"blue\">**Answer: **\n",
    "The variables for this project are the following:\n",
    "<br>\n",
    ">**Independent variable:** The display of words in various colors and whether or not the color of the ink for word displayed matched the word itself.\n",
    "\n",
    ">**Dependent variable:** The reaction time to name to color of the ink the word is displayed in.\n",
    "<br>\n"
   ]
  },
  {
   "cell_type": "markdown",
   "metadata": {},
   "source": [
    "(2) What is an appropriate set of hypotheses for this task? Specify your null and alternative hypotheses, and clearly define any notation used. Justify your choices."
   ]
  },
  {
   "cell_type": "markdown",
   "metadata": {},
   "source": [
    "<font color=\"blue\">**Answer:**<br><br>\n",
    "**Null Hypothesis** An appropriate null hypothesis for this data is that the mean reaction time for congruent data (colors match the word) is equal to the mean reaction time for incongruent data.\n",
    "<br>\n",
    "**$μ_{c}$** = **$μ_{i}$** \n",
    "<br>\n",
    "<br>\n",
    "**Alternative Hypothesis** The alternative hypothesis states that the mean reaction time for incongruent data is not equal to the reaction time for congruent data.\n",
    "<br>\n",
    "**$μ_{i}$** <> **$μ_{c}$**\n",
    "<br><br>\n",
    "μ: Refers to the mean for the population<br>\n",
    "c: Congruent tests<br> \n",
    "i: Incongruent tests  \n",
    "    <br><br>\n",
    "**Statistical Test Proposed: **The initial review of the data indicates that a paired t-test would be appropriate for this data.  A t-test supports the analysis of paired, <u>independent</u> observations which is what we see with the Stroop data.  The t-test assumes a small sample size (less than 30), independent data points (as mentioned previously) and a normal distribution of means across the population.   By comparison, a z-test assumes independent samples and a larger sample (greater than 30).  A t-test was also chosen because we don't know (and don't assume to know) the population variance where as with a z-test you know, or assume to know, the variance.<br><br>\n",
    "\n",
    "A regression model was not used here since we are not attempting to predict the probability of a case using independent variables, rather we are comparing two dependent variables to prove (or reject) the null hypothesis.\n",
    "\n"
   ]
  },
  {
   "cell_type": "markdown",
   "metadata": {},
   "source": [
    "(3) Report some descriptive statistics regarding this dataset. Include at least one measure of central tendency and at least one measure of variability. The name of the data file is 'stroopdata.csv'."
   ]
  },
  {
   "cell_type": "code",
   "execution_count": 1,
   "metadata": {},
   "outputs": [
    {
     "name": "stderr",
     "output_type": "stream",
     "text": [
      "C:\\Users\\cb1118\\AppData\\Local\\Continuum\\anaconda3\\lib\\site-packages\\statsmodels\\compat\\pandas.py:56: FutureWarning: The pandas.core.datetools module is deprecated and will be removed in a future version. Please use the pandas.tseries module instead.\n",
      "  from pandas.core import datetools\n"
     ]
    }
   ],
   "source": [
    "# Perform the analysis here\n",
    "\n",
    "#import libraries needed for projrect\n",
    "import pandas as pd\n",
    "import numpy as np\n",
    "import seaborn as sns\n",
    "import matplotlib.pyplot as plt\n",
    "import statsmodels.api as sm\n",
    "%matplotlib inline\n",
    "import scipy.stats as st\n"
   ]
  },
  {
   "cell_type": "code",
   "execution_count": 2,
   "metadata": {},
   "outputs": [
    {
     "data": {
      "text/html": [
       "<div>\n",
       "<style>\n",
       "    .dataframe thead tr:only-child th {\n",
       "        text-align: right;\n",
       "    }\n",
       "\n",
       "    .dataframe thead th {\n",
       "        text-align: left;\n",
       "    }\n",
       "\n",
       "    .dataframe tbody tr th {\n",
       "        vertical-align: top;\n",
       "    }\n",
       "</style>\n",
       "<table border=\"1\" class=\"dataframe\">\n",
       "  <thead>\n",
       "    <tr style=\"text-align: right;\">\n",
       "      <th></th>\n",
       "      <th>Congruent</th>\n",
       "      <th>Incongruent</th>\n",
       "    </tr>\n",
       "  </thead>\n",
       "  <tbody>\n",
       "    <tr>\n",
       "      <th>0</th>\n",
       "      <td>12.079</td>\n",
       "      <td>19.278</td>\n",
       "    </tr>\n",
       "    <tr>\n",
       "      <th>1</th>\n",
       "      <td>16.791</td>\n",
       "      <td>18.741</td>\n",
       "    </tr>\n",
       "    <tr>\n",
       "      <th>2</th>\n",
       "      <td>9.564</td>\n",
       "      <td>21.214</td>\n",
       "    </tr>\n",
       "    <tr>\n",
       "      <th>3</th>\n",
       "      <td>8.630</td>\n",
       "      <td>15.687</td>\n",
       "    </tr>\n",
       "    <tr>\n",
       "      <th>4</th>\n",
       "      <td>14.669</td>\n",
       "      <td>22.803</td>\n",
       "    </tr>\n",
       "  </tbody>\n",
       "</table>\n",
       "</div>"
      ],
      "text/plain": [
       "   Congruent  Incongruent\n",
       "0     12.079       19.278\n",
       "1     16.791       18.741\n",
       "2      9.564       21.214\n",
       "3      8.630       15.687\n",
       "4     14.669       22.803"
      ]
     },
     "execution_count": 2,
     "metadata": {},
     "output_type": "execute_result"
    }
   ],
   "source": [
    "#load data and output a few rows\n",
    "df = pd.read_csv(\"stroopdata.csv\")\n",
    "df.head()"
   ]
  },
  {
   "cell_type": "code",
   "execution_count": 3,
   "metadata": {},
   "outputs": [
    {
     "data": {
      "text/plain": [
       "Congruent      24\n",
       "Incongruent    24\n",
       "dtype: int64"
      ]
     },
     "execution_count": 3,
     "metadata": {},
     "output_type": "execute_result"
    }
   ],
   "source": [
    "#Make sure data is complete\n",
    "df.nunique()"
   ]
  },
  {
   "cell_type": "code",
   "execution_count": 4,
   "metadata": {},
   "outputs": [
    {
     "data": {
      "text/plain": [
       "Congruent      0\n",
       "Incongruent    0\n",
       "dtype: int64"
      ]
     },
     "execution_count": 4,
     "metadata": {},
     "output_type": "execute_result"
    }
   ],
   "source": [
    "df.isnull().sum()"
   ]
  },
  {
   "cell_type": "code",
   "execution_count": 5,
   "metadata": {},
   "outputs": [
    {
     "data": {
      "text/plain": [
       "(14.051125000000004, 22.01591666666667, 7.964791666666665)"
      ]
     },
     "execution_count": 5,
     "metadata": {},
     "output_type": "execute_result"
    }
   ],
   "source": [
    "#Generate means for data\n",
    "cng_mean = df.Congruent.mean()\n",
    "icng_mean = df.Incongruent.mean()\n",
    "mean_diff = icng_mean - cng_mean\n",
    "(cng_mean, icng_mean, mean_diff)"
   ]
  },
  {
   "cell_type": "code",
   "execution_count": 6,
   "metadata": {},
   "outputs": [
    {
     "data": {
      "text/plain": [
       "(14.3565, 21.0175, 6.660999999999998)"
      ]
     },
     "execution_count": 6,
     "metadata": {},
     "output_type": "execute_result"
    }
   ],
   "source": [
    "#Generate medians\n",
    "cng_median = df.Congruent.median()\n",
    "icng_median = df.Incongruent.median()\n",
    "median_diff = icng_median - cng_median\n",
    "(cng_median, icng_median, median_diff)"
   ]
  },
  {
   "cell_type": "code",
   "execution_count": 7,
   "metadata": {},
   "outputs": [
    {
     "data": {
      "text/plain": [
       "(3.559357957645195, 4.797057122469138)"
      ]
     },
     "execution_count": 7,
     "metadata": {},
     "output_type": "execute_result"
    }
   ],
   "source": [
    "#Calc stanard deviations\n",
    "#7/2/18: Corrected calculation -- added ddof=1\n",
    "cng_std = np.std(df['Congruent'],ddof=1)\n",
    "icng_std = np.std(df['Incongruent'],ddof=1)\n",
    "cng_std, icng_std"
   ]
  },
  {
   "cell_type": "code",
   "execution_count": 8,
   "metadata": {},
   "outputs": [
    {
     "data": {
      "text/plain": [
       "(4.3054999999999986, 5.33475)"
      ]
     },
     "execution_count": 8,
     "metadata": {},
     "output_type": "execute_result"
    }
   ],
   "source": [
    "#Generate Interquartile Range for both tests\n",
    "cng_Q1 = df['Congruent'].quantile(0.25)\n",
    "cng_Q3 = df['Congruent'].quantile(0.75)\n",
    "\n",
    "icng_Q1 = df['Incongruent'].quantile(0.25)\n",
    "icng_Q3 = df['Incongruent'].quantile(0.75)\n",
    "\n",
    "cng_Q3 - cng_Q1, icng_Q3 - icng_Q1"
   ]
  },
  {
   "cell_type": "markdown",
   "metadata": {},
   "source": [
    "<font color=\"blue\">**Answer:** The table below shows all of the statistics collected in a tabular format.  The data clearly shows that the average and median reaction times for congruent data are significantly less than that of incongruent data.   The variability measures also indicate there is greater variance in the incongruent data vs. congruent.\n",
    "\n",
    "<table>\n",
    "  <tr>\n",
    "    <th>Measure</th>\n",
    "    <th>Congruent</th>\n",
    "    <th>Incongruent</th>\n",
    "    <th>Difference</th>\n",
    "  </tr>\n",
    "  <tr>\n",
    "    <td>Mean</td>\n",
    "    <td>14.051</td>\n",
    "    <td>22.016</td>\n",
    "    <td>7.965</td>\n",
    "  </tr>\n",
    "  <tr>\n",
    "    <td>Median</td>\n",
    "    <td>14.357</td>\n",
    "    <td>21.018</td>\n",
    "    <td>6.661</td>\n",
    "  </tr>\n",
    "  <tr>\n",
    "    <td>Standard Deviation</td>\n",
    "    <td>3.559</td>\n",
    "    <td>4.797</td>\n",
    "    <td></td>\n",
    "  </tr>\n",
    "  <tr>\n",
    "    <td>Interquartile Range</td>\n",
    "    <td>4.305</td>\n",
    "    <td>5.355</td>\n",
    "    <td></td>\n",
    "  </tr>\n",
    "</table>"
   ]
  },
  {
   "cell_type": "markdown",
   "metadata": {},
   "source": [
    "(4) Provide one or two visualizations that show the distribution of the sample data. Write one or two sentences noting what you observe about the plot or plots."
   ]
  },
  {
   "cell_type": "code",
   "execution_count": 9,
   "metadata": {},
   "outputs": [],
   "source": [
    "#plotting function used in other projects\n",
    "def plot_data(df,ptype,hsize,vsize,ptitle,pxlabel,pylabel,pxtick_loc=None,pxtick_lbl=None,pxtick_rot=None,plegend_lbl=None):\n",
    "\n",
    "    #Function to streamline plotting of data.  Currently only accepts parameters used in the analsys.\n",
    "    #Inputs: dataframe, kind of plot, horiz and vert plot size, title, labels, xtick labels and orientation, legend labels\n",
    "    #Return: None\n",
    "   \n",
    "    df.plot(kind=ptype,figsize=(hsize,vsize),title=ptitle)\n",
    "    plt.xlabel(pxlabel,fontsize=12)\n",
    "    plt.ylabel(pylabel,fontsize=12)\n",
    "    if not pxtick_loc is None and not pxtick_lbl is None and not pxtick_rot is None:\n",
    "        plt.xticks(pxtick_loc,pxtick_lbl,rotation=pxtick_rot)\n",
    "    if not plegend_lbl is None:\n",
    "        plt.legend(labels=plegend_lbl)"
   ]
  },
  {
   "cell_type": "code",
   "execution_count": 10,
   "metadata": {},
   "outputs": [
    {
     "data": {
      "image/png": "[encoded data removed]",
      "text/plain": [
       "<matplotlib.figure.Figure at 0x1e13a386400>"
      ]
     },
     "metadata": {},
     "output_type": "display_data"
    }
   ],
   "source": [
    "# Build the visualizations here\n",
    "plot_data(df,'bar',12,8,\"Congruent vs Incongruent Test Reaction Times\", \"Test #\", \"Reaction Time (seconds)\")"
   ]
  },
  {
   "cell_type": "code",
   "execution_count": 11,
   "metadata": {},
   "outputs": [
    {
     "data": {
      "image/png": "[encoded data removed]",
      "text/plain": [
       "<matplotlib.figure.Figure at 0x1e13f814c18>"
      ]
     },
     "metadata": {},
     "output_type": "display_data"
    }
   ],
   "source": [
    "# A BoxPlot seemed to be the most fitting type of plot to use with this data.\n",
    "\n",
    "#######################################################\n",
    "# Sources:                                            #\n",
    "#    Seaborn online documentation                     #\n",
    "#    Stack Exchange                                   #\n",
    "#######################################################\n",
    "\n",
    "plt.figure(figsize=(8,8))\n",
    "fig = sns.boxplot(data=df, palette=\"PRGn\")\n",
    "sns.despine(offset=10, trim=True)\n",
    "fig.set_xlabel('Test Type', fontsize=12)\n",
    "fig.set_ylabel('Reaction Time', fontsize = 12)\n",
    "plt.show()\n"
   ]
  },
  {
   "cell_type": "markdown",
   "metadata": {},
   "source": [
    "<font color=\"blue\">**Answer:** Two different types of plots for the data but ultimately both of them showed very similar results.  The bar chart indicates a consistent pattern of higher reaction time for incongruent data.  This occurs on every test.  While the boxplot indicates there is overlap in the reaction times, those overlaps nearly all occur in the upper quartile of the congruent tests.  There is no overlap in the interquartile ranges.  Note that there are outliers in the incongruent tests (see test 14 and 19 in the bar chart plot above) but not in the congruent tests.\n"
   ]
  },
  {
   "cell_type": "markdown",
   "metadata": {},
   "source": [
    "(5)  Now, perform the statistical test and report your results. What is your confidence level or Type I error associated with your test? What is your conclusion regarding the hypotheses you set up? Did the results match up with your expectations? **Hint:**  Think about what is being measured on each individual, and what statistic best captures how an individual reacts in each environment."
   ]
  },
  {
   "cell_type": "code",
   "execution_count": 12,
   "metadata": {},
   "outputs": [
    {
     "data": {
      "text/plain": [
       "Ttest_relResult(statistic=-8.020706944109957, pvalue=4.1030005857111781e-08)"
      ]
     },
     "execution_count": 12,
     "metadata": {},
     "output_type": "execute_result"
    }
   ],
   "source": [
    "# Perform the statistical test here\n",
    "#######################################################\n",
    "# Sources:                                            #\n",
    "#    scipy.stats online documentation                 #\n",
    "#    Stack Exchange (for validation of solution)      #\n",
    "#######################################################\n",
    "\n",
    "\n",
    "st.ttest_rel(df['Congruent'],df['Incongruent'])\n"
   ]
  },
  {
   "cell_type": "code",
   "execution_count": 13,
   "metadata": {},
   "outputs": [
    {
     "data": {
      "text/plain": [
       "-2.0686576104190411"
      ]
     },
     "execution_count": 13,
     "metadata": {},
     "output_type": "execute_result"
    }
   ],
   "source": [
    "#calculate t-critical value\n",
    "# 7/2/18 Corrected: Updated ppf calculation to perfom two-tailed test.\n",
    "alpha=0.05\n",
    "st.t.ppf(alpha/2, df=23)\n"
   ]
  },
  {
   "cell_type": "markdown",
   "metadata": {},
   "source": [
    "<font color=\"blue\">**Answer: **An analysis of the data showed that the most appropriate statistical test would be the paired t-test since we are comparing reaction times for two different scenarios with multiple test cases.<br><br>\n",
    "    The t-statistic from the test was -8.021.  The t-stat is indication of how extreme the statistical estimate is and the closer to zero this value is, the more plausible the null hypothesis is.  The t-stat has well surpassed the t-critical value of -2.069 which is caclulated above and this further supports the conclusions reached.  Given this and the large deviation of t-stat from zero, the null hypothesis that reaction times would be the same between the tests <i>should be rejected</i>.<br><br>\n",
    "    The p-value provides even more evidence that the null hypothesis should be rejected. A low p-value indicates that the <i>null hypothesis should be rejected</i>.  For our data the p-value was -00000004.103 and very close to zero.<br><br>\n",
    "    \n",
    "**Sources: ** Scipy.stats documentation as well as general google search was ued to validate the outcome of the t-test           "
   ]
  },
  {
   "cell_type": "markdown",
   "metadata": {},
   "source": [
    "(6) Optional: What do you think is responsible for the effects observed? Can you think of an alternative or similar task that would result in a similar effect? Some research about the problem will be helpful for thinking about these two questions!"
   ]
  },
  {
   "cell_type": "markdown",
   "metadata": {},
   "source": [
    "<font color=\"blue\">\n",
    "**What is responsible for the observed effects (The Stroop Effect): **The significant differences between the reaction times for the congruent data and the incongruent data is likely related to how the human brain works.  It stands to reason that humans can read words faster than they can process a color and come up the name of that color. <br><br>\n",
    "**Alternative or Similar tasks: **I did some research on the Stroop effect and it is clear that it is everywhere in our lives. One of the most prevelant examples of where the Stroop effect could have an impact is advertising.  Advertising is everywhere and the colors, font and images used in that advertising can change peoples reactions to a product and lead to impulse buying.  Buying a car is a perfect example of what can happen.  If you go car shopping without a specific list of requirements you can easily swayed by the color of a vehicle, the look, a test drive etc.  This can lead to purchasing a vehicle that does not meet your needs and ultimately causes buyers remorse.  Another, less expensive example is the grocery store.  Food manufacturers use many different colors of labels and different font sizes and they are intended to sway your opinion to purchase without looking any further.  The Stroop effect can be combatted by slowing down, making lists and puttin more thought into decisions.  This was clear in the project as well -- The participants in the experiment were ultimately able to get the righ answers but they had to put more thought into the incongruent test.<br><br>\n",
    "    \n",
    "**Sources: **General google search for everyday examples of the Stroop effect."
   ]
  },
  {
   "cell_type": "code",
   "execution_count": null,
   "metadata": {},
   "outputs": [],
   "source": []
  }
 ],
 "metadata": {
  "kernelspec": {
   "display_name": "Python [default]",
   "language": "python",
   "name": "python3"
  },
  "language_info": {
   "codemirror_mode": {
    "name": "ipython",
    "version": 3
   },
   "file_extension": ".py",
   "mimetype": "text/x-python",
   "name": "python",
   "nbconvert_exporter": "python",
   "pygments_lexer": "ipython3",
   "version": "3.6.5"
  }
 },
 "nbformat": 4,
 "nbformat_minor": 2
}
